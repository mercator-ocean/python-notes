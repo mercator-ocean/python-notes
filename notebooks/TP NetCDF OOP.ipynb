{
 "cells": [
  {
   "cell_type": "markdown",
   "metadata": {},
   "source": [
    "# Travaux Pratiques NetCDF"
   ]
  },
  {
   "cell_type": "code",
   "execution_count": 108,
   "metadata": {},
   "outputs": [
    {
     "data": {
      "text/plain": [
       "array([datetime.datetime(2017, 10, 4, 0, 30),\n",
       "       datetime.datetime(2017, 10, 4, 1, 30),\n",
       "       datetime.datetime(2017, 10, 4, 2, 30),\n",
       "       datetime.datetime(2017, 10, 4, 3, 30),\n",
       "       datetime.datetime(2017, 10, 4, 4, 30),\n",
       "       datetime.datetime(2017, 10, 4, 5, 30),\n",
       "       datetime.datetime(2017, 10, 4, 6, 30),\n",
       "       datetime.datetime(2017, 10, 4, 7, 30),\n",
       "       datetime.datetime(2017, 10, 4, 8, 30),\n",
       "       datetime.datetime(2017, 10, 4, 9, 30),\n",
       "       datetime.datetime(2017, 10, 4, 10, 30),\n",
       "       datetime.datetime(2017, 10, 4, 11, 30),\n",
       "       datetime.datetime(2017, 10, 4, 12, 30),\n",
       "       datetime.datetime(2017, 10, 4, 13, 30),\n",
       "       datetime.datetime(2017, 10, 4, 14, 30),\n",
       "       datetime.datetime(2017, 10, 4, 15, 30),\n",
       "       datetime.datetime(2017, 10, 4, 16, 30),\n",
       "       datetime.datetime(2017, 10, 4, 17, 30),\n",
       "       datetime.datetime(2017, 10, 4, 18, 30),\n",
       "       datetime.datetime(2017, 10, 4, 19, 30),\n",
       "       datetime.datetime(2017, 10, 4, 20, 30),\n",
       "       datetime.datetime(2017, 10, 4, 21, 30),\n",
       "       datetime.datetime(2017, 10, 4, 22, 30),\n",
       "       datetime.datetime(2017, 10, 4, 23, 30)], dtype=object)"
      ]
     },
     "execution_count": 108,
     "metadata": {},
     "output_type": "execute_result"
    }
   ],
   "source": [
    "from datetime import timedelta, datetime\n",
    "from netCDF4 import Dataset, num2date\n",
    "import numpy as np\n",
    "\n",
    "dataset = Dataset(\"data1.nc\")\n",
    "num2date(dataset.variables['time'][:], dataset.variables['time'].units)"
   ]
  },
  {
   "cell_type": "code",
   "execution_count": 162,
   "metadata": {},
   "outputs": [],
   "source": [
    "class TimeIterator:\n",
    "    \n",
    "    def __init__(self, time, minutes):\n",
    "        self.times = num2date(time[:], time.units)\n",
    "        self.current_time = self.times[0]\n",
    "        self.delta = timedelta(minutes=minutes)\n",
    "        \n",
    "    def next(self):\n",
    "        self.current_time += self.delta\n",
    "        return self.current_time\n",
    "    \n",
    "    @property\n",
    "    def nearest_times(self):\n",
    "        idx = self._nearest_index()\n",
    "        nearest = self.times[idx]\n",
    "        if nearest < self.current_time:\n",
    "            return self.times[idx], self.times[idx+1]\n",
    "        else:\n",
    "            return self.times[idx-1], self.times[idx]\n",
    "        \n",
    "    def _nearest_index(self):\n",
    "        return (np.abs(self.times-self.current_time)).argmin()\n",
    "    \n",
    "    __next__ = next  # Compatibilité Python 3"
   ]
  },
  {
   "cell_type": "code",
   "execution_count": 163,
   "metadata": {},
   "outputs": [
    {
     "data": {
      "text/plain": [
       "datetime.datetime(2017, 10, 4, 0, 45)"
      ]
     },
     "execution_count": 163,
     "metadata": {},
     "output_type": "execute_result"
    }
   ],
   "source": [
    "time_iterator = TimeIterator(dataset.variables['time'], minutes=5)\n",
    "next(time_iterator)\n",
    "next(time_iterator)\n",
    "next(time_iterator)"
   ]
  },
  {
   "cell_type": "code",
   "execution_count": 164,
   "metadata": {},
   "outputs": [],
   "source": [
    "assert time_iterator.nearest_times == (datetime(2017, 10, 4, 0, 30), datetime(2017, 10, 4, 1, 30))"
   ]
  },
  {
   "cell_type": "code",
   "execution_count": 165,
   "metadata": {},
   "outputs": [
    {
     "data": {
      "text/plain": [
       "datetime.datetime(2017, 10, 4, 1, 5)"
      ]
     },
     "execution_count": 165,
     "metadata": {},
     "output_type": "execute_result"
    }
   ],
   "source": [
    "next(time_iterator)\n",
    "next(time_iterator)\n",
    "next(time_iterator)\n",
    "next(time_iterator)"
   ]
  },
  {
   "cell_type": "code",
   "execution_count": 166,
   "metadata": {},
   "outputs": [
    {
     "data": {
      "text/plain": [
       "(datetime.datetime(2017, 10, 4, 0, 30), datetime.datetime(2017, 10, 4, 1, 30))"
      ]
     },
     "execution_count": 166,
     "metadata": {},
     "output_type": "execute_result"
    }
   ],
   "source": [
    "time_iterator.nearest_times"
   ]
  },
  {
   "cell_type": "code",
   "execution_count": 167,
   "metadata": {},
   "outputs": [],
   "source": [
    "assert time_iterator.nearest_times == (datetime(2017, 10, 4, 0, 30), datetime(2017, 10, 4, 1, 30))"
   ]
  },
  {
   "cell_type": "code",
   "execution_count": 168,
   "metadata": {},
   "outputs": [
    {
     "data": {
      "text/plain": [
       "datetime.datetime(2017, 10, 4, 1, 35)"
      ]
     },
     "execution_count": 168,
     "metadata": {},
     "output_type": "execute_result"
    }
   ],
   "source": [
    "next(time_iterator)\n",
    "next(time_iterator)\n",
    "next(time_iterator)\n",
    "next(time_iterator)\n",
    "next(time_iterator)\n",
    "next(time_iterator)"
   ]
  },
  {
   "cell_type": "code",
   "execution_count": 169,
   "metadata": {},
   "outputs": [
    {
     "data": {
      "text/plain": [
       "datetime.datetime(2017, 10, 4, 1, 40)"
      ]
     },
     "execution_count": 169,
     "metadata": {},
     "output_type": "execute_result"
    }
   ],
   "source": [
    "next(time_iterator)"
   ]
  },
  {
   "cell_type": "code",
   "execution_count": 170,
   "metadata": {},
   "outputs": [],
   "source": [
    "assert time_iterator.nearest_times == (datetime(2017, 10, 4, 1, 30), datetime(2017, 10, 4, 2, 30))"
   ]
  },
  {
   "cell_type": "code",
   "execution_count": null,
   "metadata": {},
   "outputs": [],
   "source": []
  }
 ],
 "metadata": {
  "kernelspec": {
   "display_name": "Python 2",
   "language": "python",
   "name": "python2"
  },
  "language_info": {
   "codemirror_mode": {
    "name": "ipython",
    "version": 2
   },
   "file_extension": ".py",
   "mimetype": "text/x-python",
   "name": "python",
   "nbconvert_exporter": "python",
   "pygments_lexer": "ipython2",
   "version": "2.7.14"
  }
 },
 "nbformat": 4,
 "nbformat_minor": 2
}
