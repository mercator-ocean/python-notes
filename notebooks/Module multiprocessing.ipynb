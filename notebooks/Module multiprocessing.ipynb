{
 "cells": [
  {
   "cell_type": "markdown",
   "metadata": {},
   "source": [
    "# Exemple de traitement de fichiers netcdf en parallèle avec multiprocessing & xarray\n",
    "\n",
    "Dans cet exemple, nous faison la comparaison entre 2 programmes qui exécutent de façon séquentielle et asynchrone (parallèle) une analyse du contenu de plusieurs fichiers de SST.\n",
    "\n",
    "En bouclant sur une liste de fichier:\n",
    "* nous ouvrons le fichier\n",
    "* affichons le nom du fichier et le pas de temps associé\n",
    "* récupérons toutes les variables ayant des dimensions (time,lat,lon)\n",
    "* Pour chacune de ces variables:\n",
    "    * On calcule la moyenne de la variable (avec un objet ```DataFrame``` de la lib **xarray** pour gagner du temps)\n",
    "    * On affiche le nom du fichier, nom de variable et sa moyenne"
   ]
  },
  {
   "cell_type": "markdown",
   "metadata": {},
   "source": [
    "### Initialisation du programme"
   ]
  },
  {
   "cell_type": "code",
   "execution_count": 2,
   "metadata": {},
   "outputs": [
    {
     "ename": "ImportError",
     "evalue": "No module named xarray",
     "output_type": "error",
     "traceback": [
      "\u001b[0;31m---------------------------------------------------------------------------\u001b[0m",
      "\u001b[0;31mImportError\u001b[0m                               Traceback (most recent call last)",
      "\u001b[0;32m<ipython-input-2-e99f8e02ed44>\u001b[0m in \u001b[0;36m<module>\u001b[0;34m()\u001b[0m\n\u001b[1;32m      2\u001b[0m \u001b[0;32mfrom\u001b[0m \u001b[0mmultiprocessing\u001b[0m \u001b[0;32mimport\u001b[0m \u001b[0mPool\u001b[0m\u001b[0;34m\u001b[0m\u001b[0m\n\u001b[1;32m      3\u001b[0m \u001b[0;32mfrom\u001b[0m \u001b[0mglob\u001b[0m \u001b[0;32mimport\u001b[0m \u001b[0mglob\u001b[0m\u001b[0;34m\u001b[0m\u001b[0m\n\u001b[0;32m----> 4\u001b[0;31m \u001b[0;32mimport\u001b[0m \u001b[0mxarray\u001b[0m \u001b[0;32mas\u001b[0m \u001b[0mxr\u001b[0m\u001b[0;34m\u001b[0m\u001b[0m\n\u001b[0m\u001b[1;32m      5\u001b[0m \u001b[0;32mimport\u001b[0m \u001b[0mtimeit\u001b[0m\u001b[0;34m\u001b[0m\u001b[0m\n\u001b[1;32m      6\u001b[0m \u001b[0;32mimport\u001b[0m \u001b[0mos\u001b[0m\u001b[0;34m\u001b[0m\u001b[0m\n",
      "\u001b[0;31mImportError\u001b[0m: No module named xarray"
     ]
    }
   ],
   "source": [
    "from netCDF4 import Dataset, num2date\n",
    "from multiprocessing import Pool\n",
    "from glob import glob\n",
    "import xarray as xr\n",
    "import timeit\n",
    "import os"
   ]
  },
  {
   "cell_type": "markdown",
   "metadata": {},
   "source": [
    "### Recherche des fichiers & déclaration du main"
   ]
  },
  {
   "cell_type": "code",
   "execution_count": null,
   "metadata": {},
   "outputs": [],
   "source": [
    "dataDir = '/dataref/opr/DATA/SST/OSTIA/2017101[0-2]*.nc'\n",
    "ls = glob(dataDir)\n",
    "\n",
    "if __name__ == '__main__':"
   ]
  },
  {
   "cell_type": "markdown",
   "metadata": {},
   "source": [
    "### Création de la fonction de traitement getmean()"
   ]
  },
  {
   "cell_type": "markdown",
   "metadata": {},
   "source": [
    "* déclaration de getmean(), ouverture d'un fichier, conversion du temps et affichage des infos de base"
   ]
  },
  {
   "cell_type": "code",
   "execution_count": null,
   "metadata": {},
   "outputs": [],
   "source": [
    "    def getmean(args):\n",
    "\n",
    "        mode, ind, filename = args[:]\n",
    "\n",
    "        nc = Dataset(filename, 'r')\n",
    "\n",
    "        time = num2date(nc.variables['time'][:], nc.variables['time'].units)\n",
    "\n",
    "        print(\"[{mode}] run: {file} ({time:%Y-%m-%dT%H:%M})\".format(mode=mode,\n",
    "                                                                    file=os.path.basename(filename),\n",
    "                                                                    time=time[0]))"
   ]
  },
  {
   "cell_type": "markdown",
   "metadata": {},
   "source": [
    "* Récupération des variables ayant des dimensions (time,lat,lon)"
   ]
  },
  {
   "cell_type": "code",
   "execution_count": null,
   "metadata": {},
   "outputs": [],
   "source": [
    "        vars = [var for var in nc.variables if nc.variables[var].dimensions == (u'time',u'lat',u'lon')]"
   ]
  },
  {
   "cell_type": "markdown",
   "metadata": {},
   "source": [
    "* Pour chacune de ces variables:\n",
    "    * On calcule la moyenne de la variable (avec un objet DataFrame de la lib xarray pour gagner du temps)\n",
    "    * On affiche le nom du fichier, nom de variable et sa moyenne"
   ]
  },
  {
   "cell_type": "code",
   "execution_count": null,
   "metadata": {},
   "outputs": [],
   "source": [
    "        for var in vars:\n",
    "            V = xr.DataArray(nc.variables[var][:])\n",
    "            mn = V.mean().data\n",
    "            print(\"MODE [{mode}] : file {file} / var {var} : mean = {mn} \".format(mode=mode,\n",
    "                                                                                  file=os.path.basename(filename),\n",
    "                                                                                  var=var, mn=mn))"
   ]
  },
  {
   "cell_type": "markdown",
   "metadata": {},
   "source": [
    "* On ferme de netcdf"
   ]
  },
  {
   "cell_type": "markdown",
   "metadata": {},
   "source": [
    "* On ferme de netcdf et on sort de la fonction"
   ]
  },
  {
   "cell_type": "code",
   "execution_count": null,
   "metadata": {},
   "outputs": [],
   "source": [
    "        nc.close()\n",
    "    \n",
    "        return None"
   ]
  },
  {
   "cell_type": "markdown",
   "metadata": {},
   "source": [
    "### Corps du programme\n",
    "\n",
    "* On instancie un Pool de \"Workers\" (cad. des threads pour le multiprocessing), lancés par blocs de 4 processes."
   ]
  },
  {
   "cell_type": "code",
   "execution_count": null,
   "metadata": {},
   "outputs": [],
   "source": [
    "p = Pool(processes=4)"
   ]
  },
  {
   "cell_type": "markdown",
   "metadata": {},
   "source": [
    "### Lancement séquentiel\n",
    "\n",
    "* Et affichage du temps de traitement"
   ]
  },
  {
   "cell_type": "code",
   "execution_count": null,
   "metadata": {},
   "outputs": [],
   "source": [
    "    # Sequential run\n",
    "    start_time = timeit.default_timer()\n",
    "    myArgs = [('Sequential', i, f) for i, f in enumerate(ls)]\n",
    "    for arg in myArgs:\n",
    "        getmean(arg)\n",
    "\n",
    "    interm_time = timeit.default_timer()\n",
    "    print \"ELAPSED TIME [Sequential]:\", interm_time - start_time"
   ]
  },
  {
   "cell_type": "markdown",
   "metadata": {},
   "source": [
    "### Lancement asynchrone (parallèle)\n",
    "\n",
    "* Et affichage du temps de traitement"
   ]
  },
  {
   "cell_type": "code",
   "execution_count": null,
   "metadata": {},
   "outputs": [],
   "source": [
    "    # Asynchronous run\n",
    "    myArgs = [('Asynchronous',i, f) for i, f in enumerate(ls)]\n",
    "    p.map_async(getmean, myArgs)\n",
    "    p.close()\n",
    "    p.join()\n",
    "\n",
    "    end_time = timeit.default_timer()\n",
    "    print \"ELAPSED TIME [Asynchronous]:\", end_time - interm_time"
   ]
  }
 ],
 "metadata": {
  "kernelspec": {
   "display_name": "Python 2",
   "language": "python",
   "name": "python2"
  },
  "language_info": {
   "codemirror_mode": {
    "name": "ipython",
    "version": 2
   },
   "file_extension": ".py",
   "mimetype": "text/x-python",
   "name": "python",
   "nbconvert_exporter": "python",
   "pygments_lexer": "ipython2",
   "version": "2.7.5"
  }
 },
 "nbformat": 4,
 "nbformat_minor": 2
}
