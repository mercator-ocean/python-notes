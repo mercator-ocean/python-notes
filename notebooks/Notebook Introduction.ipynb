{
 "cells": [
  {
   "cell_type": "markdown",
   "metadata": {},
   "source": [
    "# Présentation des Notebooks Jupyter et de iPython\n",
    "\n",
    "> The Jupyter Notebook is a web application that allows you to create and share documents that contain live code,  equations, visualizations and explanatory text. Uses include: data cleaning and transformation, numerical simulation, statistical modeling, machine learning and much more.\n",
    "\n",
    "Un notebook est un document Web permetant d'intégrer du texte, des images, des vidéos, des graphiques (dynamiques) et du code Python.\n",
    "\n",
    "Initialement conçus avec l'interpréteur iPython en ligne de commande, les notebooks ont été externalisés de cet interpréteur pour mettre leur utilisation avec d'autres langages.\n",
    "\n",
    "Ce projet s'appelle [Jupyter](http://jupyter.org/) \n",
    "Il permet aujourd'hui d'intégrer les notebooks avec plus de 40 langages, dont:\n",
    "* Python, \n",
    "* R, \n",
    "* Julia\n",
    "* Scala\n",
    "* C++\n",
    "* [Autres](https://github.com/ipython/ipython/wiki/IPython-kernels-for-other-languages)\n"
   ]
  },
  {
   "cell_type": "markdown",
   "metadata": {},
   "source": [
    "## Syntaxes autorisées\n",
    "* La partie texte des notebook s'écrit en <a href=\"https://daringfireball.net/projects/markdown/syntax\">Markdown</a>\n",
    "* Mais elle accepte aussi des balises HTML"
   ]
  },
  {
   "cell_type": "markdown",
   "metadata": {},
   "source": [
    "\n",
    "# Un titre principal\n",
    "Du texte tout seul et hop  \n",
    "La ligne précédent un saut de ligne doit contenir un ou 2 espaces en fin pour permettre le retour à la ligne\n",
    "\n",
    "## Un sous titre\n",
    "\n",
    "* Une liste à puce\n",
    "* Seconde puce\n",
    "    * Seconde puce . 1\n",
    "    * Seconde puce . 2\n",
    "* Troisième puce\n",
    "\n",
    "En **gras** et en *italique*  \n",
    "Du code:\n",
    "\n",
    "```python\n",
    "print( \"Hello World !\")\n",
    "a = 2 + 2\n",
    "```\n",
    "On peut insérer des liens : [Scipy Stack](http://www.scipy.org/ \"Le site officiel de la Scipy Stack\")\n",
    "\n",
    "Syntaxe officielle du [site Markdown](https://daringfireball.net/projects/markdown/syntax) \n",
    "\n",
    "Et des images:\n",
    "![Logo Scipy](https://scipy.org/_static/logo.gif)\n",
    "\n"
   ]
  },
  {
   "cell_type": "markdown",
   "metadata": {},
   "source": [
    "## Formules mathématiques\n",
    "Les notebooks permettent aussi l'écriture de belles formules mathématiques\n",
    "En utilisant soit:\n",
    "* L'extension [Markdown pour les Maths](http://jupyter-notebook.readthedocs.io/en/latest/examples/Notebook/Typesetting%20Equations.html) reprise par [Matplotlib](http://matplotlib.org/1.4.0/users/mathtext.html)\n",
    "* Le langage [Latex](http://docs.mathjax.org/en/latest/tex.html#tex-support)\n",
    "\n",
    "    \n",
    "\\begin{equation*}\n",
    "\\left( \\sum_{k=1}^n a_k b_k \\right)^2 \\leq \\left( \\sum_{k=1}^n a_k^2 \\right) \\left( \\sum_{k=1}^n b_k^2 \\right)\n",
    "\\end{equation*}\n",
    "\n",
    "$s(t) = \\mathcal{A}\\sin(2 \\omega t)$'\n",
    " * toto\n",
    "'$\\sqrt[3]{x^2 + y^2 + b}$'\n",
    "\n",
    "\\begin{equation*}\n",
    "\\frac{1}{\\Bigl(\\sqrt{\\phi \\sqrt{5}}-\\phi\\Bigr) e^{\\frac25 \\pi}} =\n",
    "1+\\frac{e^{-2\\pi}} {1+\\frac{e^{-4\\pi}} {1+\\frac{e^{-6\\pi}}\n",
    "{1+\\frac{e^{-8\\pi}} {1+\\ldots} } } }\n",
    "\\end{equation*}"
   ]
  },
  {
   "cell_type": "markdown",
   "metadata": {},
   "source": [
    "# L'interpréteur iPython\n",
    "L'interpréteur **iPython** est un interpréteur en ligne de commandes qui enrichit les fonctionnalités l'interpréteur natif de Python.  \n",
    "Il permet notamment\n",
    "* La gestion d'un historique des commandes\n",
    "* La coloration syntaxique\n",
    "* La complétion automatique (touche TAB)\n",
    "* D'exécuter des commandes systèmes\n",
    "* D'exécuter des commandes *magiques* apportant une plus grande richesse à l'interpréteur"
   ]
  },
  {
   "cell_type": "code",
   "execution_count": 1,
   "metadata": {},
   "outputs": [
    {
     "name": "stdout",
     "output_type": "stream",
     "text": [
      "Il exécute votre code ! Super !!\n",
      "a=10\n"
     ]
    },
    {
     "data": {
      "text/plain": [
       "10"
      ]
     },
     "execution_count": 1,
     "metadata": {},
     "output_type": "execute_result"
    }
   ],
   "source": [
    "print(\"Il exécute votre code ! Super !!\")\n",
    "a = 5 + 5\n",
    "print('a=%s' % a)\n",
    "a # la valeur de la dernière instruction d'une cellule est affichée si elle n'est pas affectée à une variable"
   ]
  },
  {
   "cell_type": "markdown",
   "metadata": {},
   "source": [
    "## Raccourcis clavier\n",
    "Les raccourcis clavier s'obtiennent avec la touche **H** quand vous n'êtes pas en édition dans une cellule.\n",
    "Les plus fréquents sont:\n",
    "* **A** : Ajout d'une cellule au dessus de la cellule courante\n",
    "* **B** : Ajout d'une cellule sous la cellule courante\n",
    "* **SHIFT+ENTER**: Exécute la cellule et crée une nouvelle en dessous\n",
    "* **CRTL+ENTER**: Exécute la cellule"
   ]
  },
  {
   "cell_type": "code",
   "execution_count": 8,
   "metadata": {},
   "outputs": [
    {
     "data": {
      "text/plain": [
       "7"
      ]
     },
     "execution_count": 8,
     "metadata": {},
     "output_type": "execute_result"
    }
   ],
   "source": [
    "2+2"
   ]
  },
  {
   "cell_type": "markdown",
   "metadata": {},
   "source": [
    "## Obtenir de l'aide\n",
    "* Taper *texte?* et exécutez la cellule\n",
    "* Taper *%pinfo texte* et exécutez la cellule"
   ]
  },
  {
   "cell_type": "code",
   "execution_count": 10,
   "metadata": {},
   "outputs": [],
   "source": [
    "# help(int)\n",
    "int?"
   ]
  },
  {
   "cell_type": "code",
   "execution_count": 11,
   "metadata": {
    "collapsed": true
   },
   "outputs": [],
   "source": [
    "%pinfo str.upper"
   ]
  },
  {
   "cell_type": "code",
   "execution_count": 12,
   "metadata": {
    "collapsed": true
   },
   "outputs": [],
   "source": [
    "s=\"Jupyter is cool\""
   ]
  },
  {
   "cell_type": "markdown",
   "metadata": {},
   "source": [
    "Syntaxe `*texte?` : liste les objets contenant *text* dans leur nom"
   ]
  },
  {
   "cell_type": "code",
   "execution_count": 13,
   "metadata": {},
   "outputs": [],
   "source": [
    "s.*strip?"
   ]
  },
  {
   "cell_type": "markdown",
   "metadata": {},
   "source": [
    "Syntaxe `objet??` affiche le code source de l'objet si ce n'est pas une méthode builtin"
   ]
  },
  {
   "cell_type": "code",
   "execution_count": 17,
   "metadata": {},
   "outputs": [],
   "source": [
    "import zipfile"
   ]
  },
  {
   "cell_type": "code",
   "execution_count": 18,
   "metadata": {
    "collapsed": true
   },
   "outputs": [],
   "source": [
    "zipfile.is_zipfile??"
   ]
  },
  {
   "cell_type": "markdown",
   "metadata": {
    "collapsed": true
   },
   "source": [
    "Autocomplétion: `objet.<touche tab>` et `objet._<touche tab>` pour les fonctions spéciales"
   ]
  },
  {
   "cell_type": "code",
   "execution_count": null,
   "metadata": {
    "collapsed": true
   },
   "outputs": [],
   "source": [
    "s."
   ]
  },
  {
   "cell_type": "code",
   "execution_count": null,
   "metadata": {
    "collapsed": true
   },
   "outputs": [],
   "source": [
    "s._"
   ]
  },
  {
   "cell_type": "markdown",
   "metadata": {},
   "source": [
    "## Exécutées des commandes shell avec iPython\n",
    "En préfixant une instruction de \"**!**\" vous pouvez exécuter toute commande système"
   ]
  },
  {
   "cell_type": "code",
   "execution_count": 19,
   "metadata": {},
   "outputs": [
    {
     "name": "stdout",
     "output_type": "stream",
     "text": [
      "lundi 19 juin 2017, 11:50:08 (UTC+0200)\r\n"
     ]
    }
   ],
   "source": [
    "!date"
   ]
  },
  {
   "cell_type": "code",
   "execution_count": 20,
   "metadata": {},
   "outputs": [
    {
     "name": "stdout",
     "output_type": "stream",
     "text": [
      "['lundi 19 juin 2017, 11:50:31 (UTC+0200)'] <class 'IPython.utils.text.SList'>\n"
     ]
    }
   ],
   "source": [
    "d = !date\n",
    "print(d, type(d))"
   ]
  },
  {
   "cell_type": "code",
   "execution_count": 21,
   "metadata": {},
   "outputs": [
    {
     "name": "stdout",
     "output_type": "stream",
     "text": [
      "<class 'IPython.utils.text.SList'>\n",
      "['__add__', '__class__', '__contains__', '__delattr__', '__delitem__', '__dict__', '__dir__', '__doc__', '__eq__', '__format__', '__ge__', '__getattribute__', '__getitem__', '__gt__', '__hash__', '__iadd__', '__imul__', '__init__', '__iter__', '__le__', '__len__', '__lt__', '__module__', '__mul__', '__ne__', '__new__', '__reduce__', '__reduce_ex__', '__repr__', '__reversed__', '__rmul__', '__setattr__', '__setitem__', '__sizeof__', '__str__', '__subclasshook__', '__weakref__', 'append', 'clear', 'copy', 'count', 'extend', 'fields', 'get_list', 'get_nlstr', 'get_paths', 'get_spstr', 'grep', 'index', 'insert', 'l', 'list', 'n', 'nlstr', 'p', 'paths', 'pop', 'remove', 'reverse', 's', 'sort', 'spstr']\n",
      "['BlueMind', 'clicksharelauncher_makina', 'firefox_makina', 'hsperfdata_makina', '+~JF1781864308935255852.tmp', '+~JF3104971716201691646.tmp', '+~JF387333476991556553.tmp', '+~JF5138832647178986929.tmp', '+~JF5174637592921042379.tmp', '+~JF5553942175795651771.tmp', '+~JF6146869162430632923.tmp', '+~JF6608443088617131321.tmp', '+~JF7129970834341872564.tmp', '+~JF7354773454138620646.tmp', '+~JF764375499126197153.tmp', '+~JF8126655918849818068.tmp', '+~JF8471465202421063290.tmp', '+~JF943866608083402397.tmp', 'lu36573tdo16.tmp', 'mintUpdate', 'OSL_PIPE_1000_SingleOfficeIPC_5ad6db87d13dce6a4b354bc9d393473', 'pulse-PKdhtXMmr18n', 'ssh-pg6gODnjrkdJ', 'systemd-private-e0b29907f2b04f8593bc16bfb4d3c0f8-colord.service-xEzoiC', 'systemd-private-e0b29907f2b04f8593bc16bfb4d3c0f8-rtkit-daemon.service-uCqluV', 'thunderbird_makina']\n"
     ]
    }
   ],
   "source": [
    "a = !ls /tmp\n",
    "print(type(a))\n",
    "print(dir(a))\n",
    "print(a)"
   ]
  },
  {
   "cell_type": "markdown",
   "metadata": {},
   "source": [
    "Il est aussi possible de passer des variables au shell"
   ]
  },
  {
   "cell_type": "code",
   "execution_count": 22,
   "metadata": {},
   "outputs": [
    {
     "name": "stdout",
     "output_type": "stream",
     "text": [
      "a=10\r\n"
     ]
    }
   ],
   "source": [
    "my_a = 10\n",
    "!echo \"a={my_a}\""
   ]
  },
  {
   "cell_type": "markdown",
   "metadata": {},
   "source": [
    "## Commandes shell intégrées\n",
    "Les 3 commandes **pwd**, **cd** et **ls** peuvent être exécutées directement dans *iPython*\n",
    "\n",
    "Ce sont des commandes automagic, qui peuvent être exécutées sans %  \n",
    "Cela peut être modifié via la commande %automagic\n",
    "\n",
    "En effet la commande *`!cd`* est sans effet car exécutée dans un autre processus\n"
   ]
  },
  {
   "cell_type": "code",
   "execution_count": 23,
   "metadata": {},
   "outputs": [
    {
     "data": {
      "text/plain": [
       "'/home/makina/PythonScientifique'"
      ]
     },
     "execution_count": 23,
     "metadata": {},
     "output_type": "execute_result"
    }
   ],
   "source": [
    "pwd # ce n'est pas du python"
   ]
  },
  {
   "cell_type": "code",
   "execution_count": 29,
   "metadata": {
    "collapsed": true
   },
   "outputs": [],
   "source": [
    "!cd /home/makina"
   ]
  },
  {
   "cell_type": "code",
   "execution_count": 30,
   "metadata": {},
   "outputs": [
    {
     "name": "stdout",
     "output_type": "stream",
     "text": [
      "\u001b[0m\u001b[01;34mBlueMind\u001b[0m/\r\n",
      "\u001b[01;35mclicksharelauncher_makina\u001b[0m=\r\n",
      "\u001b[01;34mfirefox_makina\u001b[0m/\r\n",
      "\u001b[01;34mhsperfdata_makina\u001b[0m/\r\n",
      "+~JF1781864308935255852.tmp\r\n",
      "+~JF3104971716201691646.tmp\r\n",
      "+~JF387333476991556553.tmp\r\n",
      "+~JF5138832647178986929.tmp\r\n",
      "+~JF5174637592921042379.tmp\r\n",
      "+~JF5553942175795651771.tmp\r\n",
      "+~JF6146869162430632923.tmp\r\n",
      "+~JF6608443088617131321.tmp\r\n",
      "+~JF7129970834341872564.tmp\r\n",
      "+~JF7354773454138620646.tmp\r\n",
      "+~JF764375499126197153.tmp\r\n",
      "+~JF8126655918849818068.tmp\r\n",
      "+~JF8471465202421063290.tmp\r\n",
      "+~JF943866608083402397.tmp\r\n",
      "\u001b[01;34mlu36573tdo16.tmp\u001b[0m/\r\n",
      "\u001b[34;42mmintUpdate\u001b[0m/\r\n",
      "\u001b[01;35mOSL_PIPE_1000_SingleOfficeIPC_5ad6db87d13dce6a4b354bc9d393473\u001b[0m=\r\n",
      "\u001b[01;34mpulse-PKdhtXMmr18n\u001b[0m/\r\n",
      "\u001b[01;34mssh-pg6gODnjrkdJ\u001b[0m/\r\n",
      "\u001b[01;34msystemd-private-e0b29907f2b04f8593bc16bfb4d3c0f8-colord.service-xEzoiC\u001b[0m/\r\n",
      "\u001b[01;34msystemd-private-e0b29907f2b04f8593bc16bfb4d3c0f8-rtkit-daemon.service-uCqluV\u001b[0m/\r\n",
      "\u001b[01;34mthunderbird_makina\u001b[0m/\r\n"
     ]
    }
   ],
   "source": [
    "ls"
   ]
  },
  {
   "cell_type": "code",
   "execution_count": 31,
   "metadata": {},
   "outputs": [
    {
     "name": "stdout",
     "output_type": "stream",
     "text": [
      "/tmp\n"
     ]
    }
   ],
   "source": [
    "cd /tmp"
   ]
  },
  {
   "cell_type": "code",
   "execution_count": 32,
   "metadata": {},
   "outputs": [
    {
     "name": "stdout",
     "output_type": "stream",
     "text": [
      "\u001b[0m\u001b[01;34mBlueMind\u001b[0m/\r\n",
      "\u001b[01;35mclicksharelauncher_makina\u001b[0m=\r\n",
      "\u001b[01;34mfirefox_makina\u001b[0m/\r\n",
      "\u001b[01;34mhsperfdata_makina\u001b[0m/\r\n",
      "+~JF1781864308935255852.tmp\r\n",
      "+~JF3104971716201691646.tmp\r\n",
      "+~JF387333476991556553.tmp\r\n",
      "+~JF5138832647178986929.tmp\r\n",
      "+~JF5174637592921042379.tmp\r\n",
      "+~JF5553942175795651771.tmp\r\n",
      "+~JF6146869162430632923.tmp\r\n",
      "+~JF6608443088617131321.tmp\r\n",
      "+~JF7129970834341872564.tmp\r\n",
      "+~JF7354773454138620646.tmp\r\n",
      "+~JF764375499126197153.tmp\r\n",
      "+~JF8126655918849818068.tmp\r\n",
      "+~JF8471465202421063290.tmp\r\n",
      "+~JF943866608083402397.tmp\r\n",
      "\u001b[01;34mlu36573tdo16.tmp\u001b[0m/\r\n",
      "\u001b[34;42mmintUpdate\u001b[0m/\r\n",
      "\u001b[01;35mOSL_PIPE_1000_SingleOfficeIPC_5ad6db87d13dce6a4b354bc9d393473\u001b[0m=\r\n",
      "\u001b[01;34mpulse-PKdhtXMmr18n\u001b[0m/\r\n",
      "\u001b[01;34mssh-pg6gODnjrkdJ\u001b[0m/\r\n",
      "\u001b[01;34msystemd-private-e0b29907f2b04f8593bc16bfb4d3c0f8-colord.service-xEzoiC\u001b[0m/\r\n",
      "\u001b[01;34msystemd-private-e0b29907f2b04f8593bc16bfb4d3c0f8-rtkit-daemon.service-uCqluV\u001b[0m/\r\n",
      "\u001b[01;34mthunderbird_makina\u001b[0m/\r\n"
     ]
    }
   ],
   "source": [
    "ls"
   ]
  },
  {
   "cell_type": "code",
   "execution_count": 33,
   "metadata": {},
   "outputs": [
    {
     "name": "stdout",
     "output_type": "stream",
     "text": [
      "/home/makina/PythonScientifique\n"
     ]
    }
   ],
   "source": [
    "cd /home/makina/PythonScientifique"
   ]
  },
  {
   "cell_type": "code",
   "execution_count": 34,
   "metadata": {},
   "outputs": [
    {
     "name": "stdout",
     "output_type": "stream",
     "text": [
      "hello.py                  Initiation Matplotlib.ipynb  villes_france.csv\r\n",
      "Initiation à Bokeh.ipynb  lac.csv\r\n",
      "Initiation à Numpy.ipynb  Notebook Introduction.ipynb\r\n"
     ]
    }
   ],
   "source": [
    "ls"
   ]
  },
  {
   "cell_type": "markdown",
   "metadata": {},
   "source": [
    "## D'autres commandes *magiques*\n",
    "Ces commandes qui vont au delà du langage Python sont des commandes dites *magiques* de iPython  \n",
    "Pour connaître la liste de toutes ces commandes : *%lsmagic*"
   ]
  },
  {
   "cell_type": "code",
   "execution_count": 35,
   "metadata": {},
   "outputs": [
    {
     "data": {
      "application/json": {
       "cell": {
        "!": "OSMagics",
        "HTML": "Other",
        "SVG": "Other",
        "bash": "Other",
        "capture": "ExecutionMagics",
        "debug": "ExecutionMagics",
        "file": "Other",
        "html": "DisplayMagics",
        "javascript": "DisplayMagics",
        "js": "DisplayMagics",
        "latex": "DisplayMagics",
        "perl": "Other",
        "prun": "ExecutionMagics",
        "pypy": "Other",
        "python": "Other",
        "python2": "Other",
        "python3": "Other",
        "ruby": "Other",
        "script": "ScriptMagics",
        "sh": "Other",
        "svg": "DisplayMagics",
        "sx": "OSMagics",
        "system": "OSMagics",
        "time": "ExecutionMagics",
        "timeit": "ExecutionMagics",
        "writefile": "OSMagics"
       },
       "line": {
        "alias": "OSMagics",
        "alias_magic": "BasicMagics",
        "autocall": "AutoMagics",
        "automagic": "AutoMagics",
        "autosave": "KernelMagics",
        "bookmark": "OSMagics",
        "cat": "Other",
        "cd": "OSMagics",
        "clear": "KernelMagics",
        "colors": "BasicMagics",
        "config": "ConfigMagics",
        "connect_info": "KernelMagics",
        "cp": "Other",
        "debug": "ExecutionMagics",
        "dhist": "OSMagics",
        "dirs": "OSMagics",
        "doctest_mode": "BasicMagics",
        "ed": "Other",
        "edit": "KernelMagics",
        "env": "OSMagics",
        "gui": "BasicMagics",
        "hist": "Other",
        "history": "HistoryMagics",
        "killbgscripts": "ScriptMagics",
        "ldir": "Other",
        "less": "KernelMagics",
        "lf": "Other",
        "lk": "Other",
        "ll": "Other",
        "load": "CodeMagics",
        "load_ext": "ExtensionMagics",
        "loadpy": "CodeMagics",
        "logoff": "LoggingMagics",
        "logon": "LoggingMagics",
        "logstart": "LoggingMagics",
        "logstate": "LoggingMagics",
        "logstop": "LoggingMagics",
        "ls": "Other",
        "lsmagic": "BasicMagics",
        "lx": "Other",
        "macro": "ExecutionMagics",
        "magic": "BasicMagics",
        "man": "KernelMagics",
        "matplotlib": "PylabMagics",
        "mkdir": "Other",
        "more": "KernelMagics",
        "mv": "Other",
        "notebook": "BasicMagics",
        "page": "BasicMagics",
        "pastebin": "CodeMagics",
        "pdb": "ExecutionMagics",
        "pdef": "NamespaceMagics",
        "pdoc": "NamespaceMagics",
        "pfile": "NamespaceMagics",
        "pinfo": "NamespaceMagics",
        "pinfo2": "NamespaceMagics",
        "popd": "OSMagics",
        "pprint": "BasicMagics",
        "precision": "BasicMagics",
        "profile": "BasicMagics",
        "prun": "ExecutionMagics",
        "psearch": "NamespaceMagics",
        "psource": "NamespaceMagics",
        "pushd": "OSMagics",
        "pwd": "OSMagics",
        "pycat": "OSMagics",
        "pylab": "PylabMagics",
        "qtconsole": "KernelMagics",
        "quickref": "BasicMagics",
        "recall": "HistoryMagics",
        "rehashx": "OSMagics",
        "reload_ext": "ExtensionMagics",
        "rep": "Other",
        "rerun": "HistoryMagics",
        "reset": "NamespaceMagics",
        "reset_selective": "NamespaceMagics",
        "rm": "Other",
        "rmdir": "Other",
        "run": "ExecutionMagics",
        "save": "CodeMagics",
        "sc": "OSMagics",
        "set_env": "OSMagics",
        "store": "StoreMagics",
        "sx": "OSMagics",
        "system": "OSMagics",
        "tb": "ExecutionMagics",
        "time": "ExecutionMagics",
        "timeit": "ExecutionMagics",
        "unalias": "OSMagics",
        "unload_ext": "ExtensionMagics",
        "who": "NamespaceMagics",
        "who_ls": "NamespaceMagics",
        "whos": "NamespaceMagics",
        "xdel": "NamespaceMagics",
        "xmode": "BasicMagics"
       }
      },
      "text/plain": [
       "Available line magics:\n",
       "%alias  %alias_magic  %autocall  %automagic  %autosave  %bookmark  %cat  %cd  %clear  %colors  %config  %connect_info  %cp  %debug  %dhist  %dirs  %doctest_mode  %ed  %edit  %env  %gui  %hist  %history  %killbgscripts  %ldir  %less  %lf  %lk  %ll  %load  %load_ext  %loadpy  %logoff  %logon  %logstart  %logstate  %logstop  %ls  %lsmagic  %lx  %macro  %magic  %man  %matplotlib  %mkdir  %more  %mv  %notebook  %page  %pastebin  %pdb  %pdef  %pdoc  %pfile  %pinfo  %pinfo2  %popd  %pprint  %precision  %profile  %prun  %psearch  %psource  %pushd  %pwd  %pycat  %pylab  %qtconsole  %quickref  %recall  %rehashx  %reload_ext  %rep  %rerun  %reset  %reset_selective  %rm  %rmdir  %run  %save  %sc  %set_env  %store  %sx  %system  %tb  %time  %timeit  %unalias  %unload_ext  %who  %who_ls  %whos  %xdel  %xmode\n",
       "\n",
       "Available cell magics:\n",
       "%%!  %%HTML  %%SVG  %%bash  %%capture  %%debug  %%file  %%html  %%javascript  %%js  %%latex  %%perl  %%prun  %%pypy  %%python  %%python2  %%python3  %%ruby  %%script  %%sh  %%svg  %%sx  %%system  %%time  %%timeit  %%writefile\n",
       "\n",
       "Automagic is ON, % prefix IS NOT needed for line magics."
      ]
     },
     "execution_count": 35,
     "metadata": {},
     "output_type": "execute_result"
    }
   ],
   "source": [
    "%lsmagic"
   ]
  },
  {
   "cell_type": "code",
   "execution_count": 40,
   "metadata": {
    "collapsed": true
   },
   "outputs": [],
   "source": [
    "%history?"
   ]
  },
  {
   "cell_type": "code",
   "execution_count": 38,
   "metadata": {},
   "outputs": [
    {
     "name": "stdout",
     "output_type": "stream",
     "text": [
      "%hist?\n",
      "%hist -l 5\n",
      "2+2\n",
      "a = \"Python\"\n",
      "a.capitalize?\n"
     ]
    }
   ],
   "source": [
    "%hist -l 5"
   ]
  },
  {
   "cell_type": "markdown",
   "metadata": {},
   "source": [
    "## Ecrire dans un fichier"
   ]
  },
  {
   "cell_type": "code",
   "execution_count": 39,
   "metadata": {},
   "outputs": [
    {
     "name": "stdout",
     "output_type": "stream",
     "text": [
      "/home/makina/PythonScientifique\n"
     ]
    }
   ],
   "source": [
    "cd /home/makina/PythonScientifique/"
   ]
  },
  {
   "cell_type": "code",
   "execution_count": 41,
   "metadata": {},
   "outputs": [
    {
     "name": "stdout",
     "output_type": "stream",
     "text": [
      "Writing HelloJupyter.py\n"
     ]
    }
   ],
   "source": [
    "%%file HelloJupyter.py\n",
    "print(\"Hello World from Notebook\")\n",
    "print(\"2+2=\", 4)"
   ]
  },
  {
   "cell_type": "code",
   "execution_count": 42,
   "metadata": {},
   "outputs": [
    {
     "name": "stdout",
     "output_type": "stream",
     "text": [
      "HelloJupyter.py           Initiation Matplotlib.ipynb\n",
      "hello.py                  lac.csv\n",
      "Initiation à Bokeh.ipynb  Notebook Introduction.ipynb\n",
      "Initiation à Numpy.ipynb  villes_france.csv\n",
      "\n",
      "Display file\n",
      "cat: Hello.py: Aucun fichier ou dossier de ce type\n"
     ]
    }
   ],
   "source": [
    "%ls\n",
    "print(\"\\nDisplay file\")\n",
    "!cat Hello.py # Exécute une commande shell"
   ]
  },
  {
   "cell_type": "markdown",
   "metadata": {},
   "source": [
    "## Exécuter un script\n",
    "Taper **%run *script.py* **"
   ]
  },
  {
   "cell_type": "code",
   "execution_count": 44,
   "metadata": {},
   "outputs": [
    {
     "name": "stdout",
     "output_type": "stream",
     "text": [
      "Hello World from Notebook\n",
      "2+2= 4\n"
     ]
    }
   ],
   "source": [
    "# les variables du script sont connues de l'interpréteur après exécution\n",
    "%run HelloJupyter.py "
   ]
  },
  {
   "cell_type": "code",
   "execution_count": 46,
   "metadata": {},
   "outputs": [
    {
     "name": "stdout",
     "output_type": "stream",
     "text": [
      "3.1415\n"
     ]
    }
   ],
   "source": [
    "print(PI)"
   ]
  },
  {
   "cell_type": "markdown",
   "metadata": {},
   "source": [
    "## Mesure de performances\n",
    "\n",
    "* **%timeit** : Exécute une instruction de nombreuses fois et retourne le meilleur temps  \n",
    "  Plusieurs options sont disponibles, notamment *-n* et *-r*  \n",
    "  `%timeit?` pour en savoir plus\n",
    "* **%%timeit** : Fait de même sur une cellule entière\n",
    "* **%time et %%time** : Exécute une seule fois l'instruction  \n",
    "  Moins précis que %timeit car ne désactive pas le garbage collector et autres objets\n",
    "* **%prun** : Semblable à *run -p* mesure les performances avec le profiler\n",
    "* **%lprun** : mesure le temps d'exécution de chaque ligne de code\n",
    "* **%memit et %mprun** : mesure l'occupation mémoire"
   ]
  },
  {
   "cell_type": "code",
   "execution_count": 47,
   "metadata": {},
   "outputs": [
    {
     "name": "stdout",
     "output_type": "stream",
     "text": [
      "100 loops, best of 3: 7.39 ms per loop\n"
     ]
    }
   ],
   "source": [
    "%timeit [x*x for x in range(100000)]"
   ]
  },
  {
   "cell_type": "code",
   "execution_count": 49,
   "metadata": {},
   "outputs": [
    {
     "name": "stdout",
     "output_type": "stream",
     "text": [
      "10 loops, best of 2: 12.6 ms per loop\n"
     ]
    }
   ],
   "source": [
    "%%timeit -r 2 -n 10\n",
    "l = []\n",
    "for i in range(100000):\n",
    "    l.append(i*i)"
   ]
  },
  {
   "cell_type": "code",
   "execution_count": 50,
   "metadata": {
    "collapsed": true
   },
   "outputs": [],
   "source": [
    "from collections import deque"
   ]
  },
  {
   "cell_type": "code",
   "execution_count": 51,
   "metadata": {},
   "outputs": [
    {
     "name": "stdout",
     "output_type": "stream",
     "text": [
      "10 loops, best of 1: 13.1 ms per loop\n"
     ]
    }
   ],
   "source": [
    "%%timeit -r 1 -n 10\n",
    "l = deque([])\n",
    "for i in range(100000):\n",
    "    l.append(i*i)\n"
   ]
  },
  {
   "cell_type": "code",
   "execution_count": 52,
   "metadata": {},
   "outputs": [
    {
     "name": "stdout",
     "output_type": "stream",
     "text": [
      "sorting an unsorted list:\n",
      "CPU times: user 36 ms, sys: 0 ns, total: 36 ms\n",
      "Wall time: 34.7 ms\n"
     ]
    }
   ],
   "source": [
    "import random\n",
    "L = [random.random() for i in range(100000)]\n",
    "print(\"sorting an unsorted list:\")\n",
    "%time L.sort()"
   ]
  },
  {
   "cell_type": "code",
   "execution_count": 53,
   "metadata": {},
   "outputs": [
    {
     "name": "stdout",
     "output_type": "stream",
     "text": [
      "sorting an unsorted list:\n",
      "The slowest run took 19.00 times longer than the fastest. This could mean that an intermediate result is being cached.\n",
      "100 loops, best of 3: 1.83 ms per loop\n"
     ]
    }
   ],
   "source": [
    "import random\n",
    "L = [random.random() for i in range(100000)]\n",
    "print(\"sorting an unsorted list:\")\n",
    "%timeit L.sort()"
   ]
  },
  {
   "cell_type": "code",
   "execution_count": 54,
   "metadata": {},
   "outputs": [
    {
     "name": "stdout",
     "output_type": "stream",
     "text": [
      "Hello World from Notebook\n",
      "2+2= 4\n",
      "\n",
      "IPython CPU timings (estimated):\n",
      "  User   :       0.00 s.\n",
      "  System :       0.00 s.\n",
      "Wall time:       0.00 s.\n"
     ]
    }
   ],
   "source": [
    "%run -t HelloJupyter.py"
   ]
  },
  {
   "cell_type": "code",
   "execution_count": 55,
   "metadata": {},
   "outputs": [
    {
     "name": "stdout",
     "output_type": "stream",
     "text": [
      "Hello World from Notebook\n",
      "2+2= 4\n",
      " "
     ]
    }
   ],
   "source": [
    "%run -p HelloJupyter.py"
   ]
  },
  {
   "cell_type": "code",
   "execution_count": 56,
   "metadata": {
    "collapsed": true
   },
   "outputs": [],
   "source": [
    "L1 = list(range(10**6))"
   ]
  },
  {
   "cell_type": "code",
   "execution_count": 57,
   "metadata": {},
   "outputs": [
    {
     "name": "stdout",
     "output_type": "stream",
     "text": [
      "10 loops, best of 3: 20.6 ms per loop\n",
      "100 loops, best of 3: 19.3 ms per loop\n",
      "10 loops, best of 3: 20.2 ms per loop\n",
      "10 loops, best of 3: 29.2 ms per loop\n",
      "10 loops, best of 3: 19.8 ms per loop\n"
     ]
    }
   ],
   "source": [
    "%timeit L2 = L1.copy()\n",
    "%timeit L2 = list(L1)\n",
    "%timeit L2 = L1[:]\n",
    "%timeit L2 = [ x for x in L1 ]\n",
    "%timeit L2 = [] + L1"
   ]
  },
  {
   "cell_type": "code",
   "execution_count": 60,
   "metadata": {},
   "outputs": [
    {
     "name": "stdout",
     "output_type": "stream",
     "text": [
      "CPU times: user 28 ms, sys: 0 ns, total: 28 ms\n",
      "Wall time: 24.3 ms\n",
      "CPU times: user 20 ms, sys: 0 ns, total: 20 ms\n",
      "Wall time: 21.8 ms\n",
      "CPU times: user 28 ms, sys: 0 ns, total: 28 ms\n",
      "Wall time: 24.2 ms\n",
      "CPU times: user 32 ms, sys: 0 ns, total: 32 ms\n",
      "Wall time: 31.3 ms\n",
      "CPU times: user 20 ms, sys: 0 ns, total: 20 ms\n",
      "Wall time: 20.9 ms\n"
     ]
    }
   ],
   "source": [
    "%time L2 = L1.copy()\n",
    "%time L2 = list(L1)\n",
    "%time L2 = L1[:]\n",
    "%time L2 = [ x for x in L1 ]\n",
    "%time L2 = [] + L1"
   ]
  },
  {
   "cell_type": "code",
   "execution_count": null,
   "metadata": {},
   "outputs": [],
   "source": [
    "import random\n",
    "L = [random.random() for i in range(10**6)]\n",
    "print(\"Durée:\")\n",
    "%timeit L.sort() # exécuté plusieurs fois, donc temps faussé: la liste est triée au second test"
   ]
  },
  {
   "cell_type": "code",
   "execution_count": null,
   "metadata": {},
   "outputs": [],
   "source": [
    "import random\n",
    "L = [random.random() for i in range(10**6)]\n",
    "print(\"Durée:\")\n",
    "%time L.sort()"
   ]
  },
  {
   "cell_type": "code",
   "execution_count": 2,
   "metadata": {},
   "outputs": [],
   "source": [
    "def intersect1(l1, l2):\n",
    "    r = []\n",
    "    for i in l1:\n",
    "        if i in l2:\n",
    "            r.append(i)\n",
    "    return r\n",
    "\n",
    "def intersect2(l1, l2):\n",
    "    r = []\n",
    "    d1 = dict.fromkeys(l1)\n",
    "    \n",
    "    for i in l2:\n",
    "        if i in d1:\n",
    "            r.append(i)\n",
    "    return r\n",
    "\n",
    "            "
   ]
  },
  {
   "cell_type": "code",
   "execution_count": 3,
   "metadata": {},
   "outputs": [],
   "source": [
    "L1 = list(range(0,20001))\n",
    "L2 = list(range(10000,30001))"
   ]
  },
  {
   "cell_type": "code",
   "execution_count": 6,
   "metadata": {},
   "outputs": [
    {
     "name": "stdout",
     "output_type": "stream",
     "text": [
      " "
     ]
    }
   ],
   "source": [
    "%prun intersect1(L1, L2)"
   ]
  },
  {
   "cell_type": "code",
   "execution_count": 7,
   "metadata": {},
   "outputs": [
    {
     "name": "stdout",
     "output_type": "stream",
     "text": [
      " "
     ]
    }
   ],
   "source": [
    "%prun intersect2(L1, L2)"
   ]
  },
  {
   "cell_type": "markdown",
   "metadata": {},
   "source": [
    "Il est aussi possible de faire du profiling ligne par ligne avec le paquet *line_profiler*  \n",
    "\n",
    "`bash$ pip install line_profiler`\n",
    "\n",
    "Puis charger l'extension dans le notebook:\n",
    "\n",
    "`%load_ext line_profiler`"
   ]
  },
  {
   "cell_type": "markdown",
   "metadata": {},
   "source": [
    "Il n'est pas conseillé d'installer les librairies avec *pip* depuis les notebooks car les questions posées par *pip* ne peuvent pas être renseignées et la commande se bloque"
   ]
  },
  {
   "cell_type": "code",
   "execution_count": 65,
   "metadata": {},
   "outputs": [
    {
     "name": "stdout",
     "output_type": "stream",
     "text": [
      "Collecting line_profiler\n",
      "  Using cached line_profiler-2.0.tar.gz\n",
      "Requirement already satisfied: IPython>=0.13 in /home/makina/Makina/Software/anaconda342/lib/python3.5/site-packages (from line_profiler)\n",
      "Building wheels for collected packages: line-profiler\n",
      "  Running setup.py bdist_wheel for line-profiler ... \u001b[?25l-\b \b\\\b \b|\b \b/\b \b-\b \b\\\b \bdone\n",
      "\u001b[?25h  Stored in directory: /home/makina/.cache/pip/wheels/a8/aa/3b/1d4570cc467313caec92c9d51e6543b598b835ab95cfe9c726\n",
      "Successfully built line-profiler\n",
      "Installing collected packages: line-profiler\n",
      "Successfully installed line-profiler-2.0\n"
     ]
    }
   ],
   "source": [
    "!pip install line_profiler "
   ]
  },
  {
   "cell_type": "code",
   "execution_count": 66,
   "metadata": {
    "collapsed": true
   },
   "outputs": [],
   "source": [
    "%load_ext line_profiler"
   ]
  },
  {
   "cell_type": "markdown",
   "metadata": {},
   "source": [
    "Il convient d'indiquer quelle fonction doit être profilée"
   ]
  },
  {
   "cell_type": "code",
   "execution_count": 67,
   "metadata": {
    "collapsed": true
   },
   "outputs": [],
   "source": [
    "%lprun -f intersect1 intersect1(L1, L2)"
   ]
  },
  {
   "cell_type": "code",
   "execution_count": 68,
   "metadata": {
    "collapsed": true
   },
   "outputs": [],
   "source": [
    "%lprun -f intersect2 intersect2(L1, L2)"
   ]
  },
  {
   "cell_type": "markdown",
   "metadata": {},
   "source": [
    "Le package *memory_profiler* permet de mémoriser l'occupation mémoire:  \n",
    "\n",
    "```bash\n",
    "bash$ pip install memory_profiler\n",
    "```\n",
    "\n",
    "Puis `%load memory_profiler`"
   ]
  },
  {
   "cell_type": "code",
   "execution_count": 69,
   "metadata": {},
   "outputs": [
    {
     "name": "stdout",
     "output_type": "stream",
     "text": [
      "Collecting memory_profiler\n",
      "  Using cached memory_profiler-0.47.tar.gz\n",
      "Building wheels for collected packages: memory-profiler\n",
      "  Running setup.py bdist_wheel for memory-profiler ... \u001b[?25l-\b \b\\\b \bdone\n",
      "\u001b[?25h  Stored in directory: /home/makina/.cache/pip/wheels/fe/04/c4/0f3a20494cedaeca77559759d98717b036152a6b0e86e917b4\n",
      "Successfully built memory-profiler\n",
      "Installing collected packages: memory-profiler\n",
      "Successfully installed memory-profiler-0.47\n"
     ]
    }
   ],
   "source": [
    "!pip install memory_profiler"
   ]
  },
  {
   "cell_type": "code",
   "execution_count": 70,
   "metadata": {},
   "outputs": [],
   "source": [
    "%load_ext memory_profiler"
   ]
  },
  {
   "cell_type": "code",
   "execution_count": 73,
   "metadata": {
    "collapsed": true
   },
   "outputs": [],
   "source": [
    "def my_range1(start, stop, step):\n",
    "    r = []\n",
    "    while start < stop:\n",
    "        r.append(start)\n",
    "        start += step\n",
    "        \n",
    "    return r\n",
    "\n",
    "def my_range2(start, stop, step):\n",
    "    \n",
    "    while start < stop:\n",
    "        yield start\n",
    "        start += step\n",
    "    "
   ]
  },
  {
   "cell_type": "code",
   "execution_count": 74,
   "metadata": {},
   "outputs": [
    {
     "name": "stdout",
     "output_type": "stream",
     "text": [
      "peak memory: 92.73 MiB, increment: 34.93 MiB\n"
     ]
    }
   ],
   "source": [
    "%memit my_range1(0,10**6,1)"
   ]
  },
  {
   "cell_type": "code",
   "execution_count": 75,
   "metadata": {},
   "outputs": [
    {
     "name": "stdout",
     "output_type": "stream",
     "text": [
      "peak memory: 65.98 MiB, increment: 0.00 MiB\n"
     ]
    }
   ],
   "source": [
    "%memit my_range2(0,10**6,1)"
   ]
  },
  {
   "cell_type": "code",
   "execution_count": 76,
   "metadata": {},
   "outputs": [
    {
     "data": {
      "text/plain": [
       "8697464"
      ]
     },
     "execution_count": 76,
     "metadata": {},
     "output_type": "execute_result"
    }
   ],
   "source": [
    "from sys import getsizeof\n",
    "getsizeof(my_range1(0,10**6,1))"
   ]
  },
  {
   "cell_type": "code",
   "execution_count": 77,
   "metadata": {},
   "outputs": [
    {
     "data": {
      "text/plain": [
       "88"
      ]
     },
     "execution_count": 77,
     "metadata": {},
     "output_type": "execute_result"
    }
   ],
   "source": [
    "getsizeof(my_range2(0,10**6,1))"
   ]
  },
  {
   "cell_type": "code",
   "execution_count": 78,
   "metadata": {},
   "outputs": [
    {
     "name": "stdout",
     "output_type": "stream",
     "text": [
      "Writing my_range.py\n"
     ]
    }
   ],
   "source": [
    "%%file my_range.py\n",
    "# %mprun ne fonction qu'avec des modules externes\n",
    "def my_range1(start, stop, step):\n",
    "    r = []\n",
    "    while start < stop:\n",
    "        r.append(start)\n",
    "        start += step\n",
    "        \n",
    "    return r\n",
    "\n",
    "def my_range2(start, stop, step):\n",
    "    \n",
    "    while start < stop:\n",
    "        yield start\n",
    "        start += step"
   ]
  },
  {
   "cell_type": "code",
   "execution_count": 86,
   "metadata": {
    "collapsed": true
   },
   "outputs": [],
   "source": [
    "def my_range2demo(start, stop, step):\n",
    "    \n",
    "    while start < stop:\n",
    "        print(\"avant yield start=\", start)\n",
    "        yield start # yield, retourne la valeur start et met la fonction en pause\n",
    "                    # au prochain appel la fonction reprend appel, la fonction reprend après le yield\n",
    "        print(\"après yield start=\", start)\n",
    "        start += step"
   ]
  },
  {
   "cell_type": "code",
   "execution_count": 87,
   "metadata": {},
   "outputs": [
    {
     "name": "stdout",
     "output_type": "stream",
     "text": [
      "avant yield start= 10\n",
      "ind courant: 10\n",
      "après yield start= 10\n",
      "avant yield start= 12\n",
      "ind courant: 12\n",
      "après yield start= 12\n",
      "avant yield start= 14\n",
      "ind courant: 14\n",
      "après yield start= 14\n",
      "avant yield start= 16\n",
      "ind courant: 16\n",
      "après yield start= 16\n",
      "avant yield start= 18\n",
      "ind courant: 18\n",
      "après yield start= 18\n"
     ]
    }
   ],
   "source": [
    "for ind in my_range2demo(10,20,2):\n",
    "    print(\"ind courant:\", ind)"
   ]
  },
  {
   "cell_type": "code",
   "execution_count": 93,
   "metadata": {},
   "outputs": [
    {
     "data": {
      "text/plain": [
       "generator"
      ]
     },
     "execution_count": 93,
     "metadata": {},
     "output_type": "execute_result"
    }
   ],
   "source": [
    "g = my_range2demo(10,20,2) # crée une copie de la fonction avec ses paramètres\n",
    "type(g)"
   ]
  },
  {
   "cell_type": "code",
   "execution_count": 94,
   "metadata": {},
   "outputs": [
    {
     "name": "stdout",
     "output_type": "stream",
     "text": [
      "avant yield start= 10\n",
      "10\n",
      "après yield start= 10\n",
      "avant yield start= 12\n",
      "12\n"
     ]
    }
   ],
   "source": [
    "# on exécute le générateur avec la commande next\n",
    "value = next(g) # démarre la fonction\n",
    "print(value)\n",
    "value = next(g)\n",
    "print(value)"
   ]
  },
  {
   "cell_type": "code",
   "execution_count": 82,
   "metadata": {},
   "outputs": [
    {
     "data": {
      "text/plain": [
       "[10, 12, 14, 16, 18]"
      ]
     },
     "execution_count": 82,
     "metadata": {},
     "output_type": "execute_result"
    }
   ],
   "source": [
    "my_range1(10,20,2)"
   ]
  },
  {
   "cell_type": "code",
   "execution_count": 100,
   "metadata": {},
   "outputs": [
    {
     "name": "stdout",
     "output_type": "stream",
     "text": [
      "\n"
     ]
    }
   ],
   "source": [
    "from my_range import my_range1, my_range2\n",
    "%mprun -f my_range1 my_range1(100,10**5,1)"
   ]
  },
  {
   "cell_type": "code",
   "execution_count": 98,
   "metadata": {},
   "outputs": [
    {
     "name": "stdout",
     "output_type": "stream",
     "text": [
      "\n"
     ]
    }
   ],
   "source": [
    "%mprun -f my_range2 my_range2(10,10**5,1)"
   ]
  },
  {
   "cell_type": "markdown",
   "metadata": {},
   "source": [
    "## Tracé de courbes avec matplotlib\n",
    "Ajouter en début du notebook (se fait en début de fichier car fonctionne mal quand on change le mode dans différentes cellules)\n",
    "* **%matplotlib** : Affichage dans une popup des courbes\n",
    "* **%matplotlib inline** : Affichage dans le notebook en image fixe\n",
    "* **%matplotlib notebook** : Affichage dans le notebook en mode interactif\n",
    "\n",
    "Essayez avec un exemple de la galerie:\n",
    "http://matplotlib.org/gallery.html"
   ]
  },
  {
   "cell_type": "code",
   "execution_count": 96,
   "metadata": {},
   "outputs": [
    {
     "name": "stderr",
     "output_type": "stream",
     "text": [
      "/home/makina/Makina/Software/anaconda342/lib/python3.5/site-packages/matplotlib/font_manager.py:273: UserWarning: Matplotlib is building the font cache using fc-list. This may take a moment.\n",
      "  warnings.warn('Matplotlib is building the font cache using fc-list. This may take a moment.')\n",
      "/home/makina/Makina/Software/anaconda342/lib/python3.5/site-packages/matplotlib/font_manager.py:273: UserWarning: Matplotlib is building the font cache using fc-list. This may take a moment.\n",
      "  warnings.warn('Matplotlib is building the font cache using fc-list. This may take a moment.')\n"
     ]
    },
    {
     "data": {
      "application/javascript": [
       "/* Put everything inside the global mpl namespace */\n",
       "window.mpl = {};\n",
       "\n",
       "mpl.get_websocket_type = function() {\n",
       "    if (typeof(WebSocket) !== 'undefined') {\n",
       "        return WebSocket;\n",
       "    } else if (typeof(MozWebSocket) !== 'undefined') {\n",
       "        return MozWebSocket;\n",
       "    } else {\n",
       "        alert('Your browser does not have WebSocket support.' +\n",
       "              'Please try Chrome, Safari or Firefox ≥ 6. ' +\n",
       "              'Firefox 4 and 5 are also supported but you ' +\n",
       "              'have to enable WebSockets in about:config.');\n",
       "    };\n",
       "}\n",
       "\n",
       "mpl.figure = function(figure_id, websocket, ondownload, parent_element) {\n",
       "    this.id = figure_id;\n",
       "\n",
       "    this.ws = websocket;\n",
       "\n",
       "    this.supports_binary = (this.ws.binaryType != undefined);\n",
       "\n",
       "    if (!this.supports_binary) {\n",
       "        var warnings = document.getElementById(\"mpl-warnings\");\n",
       "        if (warnings) {\n",
       "            warnings.style.display = 'block';\n",
       "            warnings.textContent = (\n",
       "                \"This browser does not support binary websocket messages. \" +\n",
       "                    \"Performance may be slow.\");\n",
       "        }\n",
       "    }\n",
       "\n",
       "    this.imageObj = new Image();\n",
       "\n",
       "    this.context = undefined;\n",
       "    this.message = undefined;\n",
       "    this.canvas = undefined;\n",
       "    this.rubberband_canvas = undefined;\n",
       "    this.rubberband_context = undefined;\n",
       "    this.format_dropdown = undefined;\n",
       "\n",
       "    this.image_mode = 'full';\n",
       "\n",
       "    this.root = $('<div/>');\n",
       "    this._root_extra_style(this.root)\n",
       "    this.root.attr('style', 'display: inline-block');\n",
       "\n",
       "    $(parent_element).append(this.root);\n",
       "\n",
       "    this._init_header(this);\n",
       "    this._init_canvas(this);\n",
       "    this._init_toolbar(this);\n",
       "\n",
       "    var fig = this;\n",
       "\n",
       "    this.waiting = false;\n",
       "\n",
       "    this.ws.onopen =  function () {\n",
       "            fig.send_message(\"supports_binary\", {value: fig.supports_binary});\n",
       "            fig.send_message(\"send_image_mode\", {});\n",
       "            fig.send_message(\"refresh\", {});\n",
       "        }\n",
       "\n",
       "    this.imageObj.onload = function() {\n",
       "            if (fig.image_mode == 'full') {\n",
       "                // Full images could contain transparency (where diff images\n",
       "                // almost always do), so we need to clear the canvas so that\n",
       "                // there is no ghosting.\n",
       "                fig.context.clearRect(0, 0, fig.canvas.width, fig.canvas.height);\n",
       "            }\n",
       "            fig.context.drawImage(fig.imageObj, 0, 0);\n",
       "        };\n",
       "\n",
       "    this.imageObj.onunload = function() {\n",
       "        this.ws.close();\n",
       "    }\n",
       "\n",
       "    this.ws.onmessage = this._make_on_message_function(this);\n",
       "\n",
       "    this.ondownload = ondownload;\n",
       "}\n",
       "\n",
       "mpl.figure.prototype._init_header = function() {\n",
       "    var titlebar = $(\n",
       "        '<div class=\"ui-dialog-titlebar ui-widget-header ui-corner-all ' +\n",
       "        'ui-helper-clearfix\"/>');\n",
       "    var titletext = $(\n",
       "        '<div class=\"ui-dialog-title\" style=\"width: 100%; ' +\n",
       "        'text-align: center; padding: 3px;\"/>');\n",
       "    titlebar.append(titletext)\n",
       "    this.root.append(titlebar);\n",
       "    this.header = titletext[0];\n",
       "}\n",
       "\n",
       "\n",
       "\n",
       "mpl.figure.prototype._canvas_extra_style = function(canvas_div) {\n",
       "\n",
       "}\n",
       "\n",
       "\n",
       "mpl.figure.prototype._root_extra_style = function(canvas_div) {\n",
       "\n",
       "}\n",
       "\n",
       "mpl.figure.prototype._init_canvas = function() {\n",
       "    var fig = this;\n",
       "\n",
       "    var canvas_div = $('<div/>');\n",
       "\n",
       "    canvas_div.attr('style', 'position: relative; clear: both; outline: 0');\n",
       "\n",
       "    function canvas_keyboard_event(event) {\n",
       "        return fig.key_event(event, event['data']);\n",
       "    }\n",
       "\n",
       "    canvas_div.keydown('key_press', canvas_keyboard_event);\n",
       "    canvas_div.keyup('key_release', canvas_keyboard_event);\n",
       "    this.canvas_div = canvas_div\n",
       "    this._canvas_extra_style(canvas_div)\n",
       "    this.root.append(canvas_div);\n",
       "\n",
       "    var canvas = $('<canvas/>');\n",
       "    canvas.addClass('mpl-canvas');\n",
       "    canvas.attr('style', \"left: 0; top: 0; z-index: 0; outline: 0\")\n",
       "\n",
       "    this.canvas = canvas[0];\n",
       "    this.context = canvas[0].getContext(\"2d\");\n",
       "\n",
       "    var rubberband = $('<canvas/>');\n",
       "    rubberband.attr('style', \"position: absolute; left: 0; top: 0; z-index: 1;\")\n",
       "\n",
       "    var pass_mouse_events = true;\n",
       "\n",
       "    canvas_div.resizable({\n",
       "        start: function(event, ui) {\n",
       "            pass_mouse_events = false;\n",
       "        },\n",
       "        resize: function(event, ui) {\n",
       "            fig.request_resize(ui.size.width, ui.size.height);\n",
       "        },\n",
       "        stop: function(event, ui) {\n",
       "            pass_mouse_events = true;\n",
       "            fig.request_resize(ui.size.width, ui.size.height);\n",
       "        },\n",
       "    });\n",
       "\n",
       "    function mouse_event_fn(event) {\n",
       "        if (pass_mouse_events)\n",
       "            return fig.mouse_event(event, event['data']);\n",
       "    }\n",
       "\n",
       "    rubberband.mousedown('button_press', mouse_event_fn);\n",
       "    rubberband.mouseup('button_release', mouse_event_fn);\n",
       "    // Throttle sequential mouse events to 1 every 20ms.\n",
       "    rubberband.mousemove('motion_notify', mouse_event_fn);\n",
       "\n",
       "    rubberband.mouseenter('figure_enter', mouse_event_fn);\n",
       "    rubberband.mouseleave('figure_leave', mouse_event_fn);\n",
       "\n",
       "    canvas_div.on(\"wheel\", function (event) {\n",
       "        event = event.originalEvent;\n",
       "        event['data'] = 'scroll'\n",
       "        if (event.deltaY < 0) {\n",
       "            event.step = 1;\n",
       "        } else {\n",
       "            event.step = -1;\n",
       "        }\n",
       "        mouse_event_fn(event);\n",
       "    });\n",
       "\n",
       "    canvas_div.append(canvas);\n",
       "    canvas_div.append(rubberband);\n",
       "\n",
       "    this.rubberband = rubberband;\n",
       "    this.rubberband_canvas = rubberband[0];\n",
       "    this.rubberband_context = rubberband[0].getContext(\"2d\");\n",
       "    this.rubberband_context.strokeStyle = \"#000000\";\n",
       "\n",
       "    this._resize_canvas = function(width, height) {\n",
       "        // Keep the size of the canvas, canvas container, and rubber band\n",
       "        // canvas in synch.\n",
       "        canvas_div.css('width', width)\n",
       "        canvas_div.css('height', height)\n",
       "\n",
       "        canvas.attr('width', width);\n",
       "        canvas.attr('height', height);\n",
       "\n",
       "        rubberband.attr('width', width);\n",
       "        rubberband.attr('height', height);\n",
       "    }\n",
       "\n",
       "    // Set the figure to an initial 600x600px, this will subsequently be updated\n",
       "    // upon first draw.\n",
       "    this._resize_canvas(600, 600);\n",
       "\n",
       "    // Disable right mouse context menu.\n",
       "    $(this.rubberband_canvas).bind(\"contextmenu\",function(e){\n",
       "        return false;\n",
       "    });\n",
       "\n",
       "    function set_focus () {\n",
       "        canvas.focus();\n",
       "        canvas_div.focus();\n",
       "    }\n",
       "\n",
       "    window.setTimeout(set_focus, 100);\n",
       "}\n",
       "\n",
       "mpl.figure.prototype._init_toolbar = function() {\n",
       "    var fig = this;\n",
       "\n",
       "    var nav_element = $('<div/>')\n",
       "    nav_element.attr('style', 'width: 100%');\n",
       "    this.root.append(nav_element);\n",
       "\n",
       "    // Define a callback function for later on.\n",
       "    function toolbar_event(event) {\n",
       "        return fig.toolbar_button_onclick(event['data']);\n",
       "    }\n",
       "    function toolbar_mouse_event(event) {\n",
       "        return fig.toolbar_button_onmouseover(event['data']);\n",
       "    }\n",
       "\n",
       "    for(var toolbar_ind in mpl.toolbar_items) {\n",
       "        var name = mpl.toolbar_items[toolbar_ind][0];\n",
       "        var tooltip = mpl.toolbar_items[toolbar_ind][1];\n",
       "        var image = mpl.toolbar_items[toolbar_ind][2];\n",
       "        var method_name = mpl.toolbar_items[toolbar_ind][3];\n",
       "\n",
       "        if (!name) {\n",
       "            // put a spacer in here.\n",
       "            continue;\n",
       "        }\n",
       "        var button = $('<button/>');\n",
       "        button.addClass('ui-button ui-widget ui-state-default ui-corner-all ' +\n",
       "                        'ui-button-icon-only');\n",
       "        button.attr('role', 'button');\n",
       "        button.attr('aria-disabled', 'false');\n",
       "        button.click(method_name, toolbar_event);\n",
       "        button.mouseover(tooltip, toolbar_mouse_event);\n",
       "\n",
       "        var icon_img = $('<span/>');\n",
       "        icon_img.addClass('ui-button-icon-primary ui-icon');\n",
       "        icon_img.addClass(image);\n",
       "        icon_img.addClass('ui-corner-all');\n",
       "\n",
       "        var tooltip_span = $('<span/>');\n",
       "        tooltip_span.addClass('ui-button-text');\n",
       "        tooltip_span.html(tooltip);\n",
       "\n",
       "        button.append(icon_img);\n",
       "        button.append(tooltip_span);\n",
       "\n",
       "        nav_element.append(button);\n",
       "    }\n",
       "\n",
       "    var fmt_picker_span = $('<span/>');\n",
       "\n",
       "    var fmt_picker = $('<select/>');\n",
       "    fmt_picker.addClass('mpl-toolbar-option ui-widget ui-widget-content');\n",
       "    fmt_picker_span.append(fmt_picker);\n",
       "    nav_element.append(fmt_picker_span);\n",
       "    this.format_dropdown = fmt_picker[0];\n",
       "\n",
       "    for (var ind in mpl.extensions) {\n",
       "        var fmt = mpl.extensions[ind];\n",
       "        var option = $(\n",
       "            '<option/>', {selected: fmt === mpl.default_extension}).html(fmt);\n",
       "        fmt_picker.append(option)\n",
       "    }\n",
       "\n",
       "    // Add hover states to the ui-buttons\n",
       "    $( \".ui-button\" ).hover(\n",
       "        function() { $(this).addClass(\"ui-state-hover\");},\n",
       "        function() { $(this).removeClass(\"ui-state-hover\");}\n",
       "    );\n",
       "\n",
       "    var status_bar = $('<span class=\"mpl-message\"/>');\n",
       "    nav_element.append(status_bar);\n",
       "    this.message = status_bar[0];\n",
       "}\n",
       "\n",
       "mpl.figure.prototype.request_resize = function(x_pixels, y_pixels) {\n",
       "    // Request matplotlib to resize the figure. Matplotlib will then trigger a resize in the client,\n",
       "    // which will in turn request a refresh of the image.\n",
       "    this.send_message('resize', {'width': x_pixels, 'height': y_pixels});\n",
       "}\n",
       "\n",
       "mpl.figure.prototype.send_message = function(type, properties) {\n",
       "    properties['type'] = type;\n",
       "    properties['figure_id'] = this.id;\n",
       "    this.ws.send(JSON.stringify(properties));\n",
       "}\n",
       "\n",
       "mpl.figure.prototype.send_draw_message = function() {\n",
       "    if (!this.waiting) {\n",
       "        this.waiting = true;\n",
       "        this.ws.send(JSON.stringify({type: \"draw\", figure_id: this.id}));\n",
       "    }\n",
       "}\n",
       "\n",
       "\n",
       "mpl.figure.prototype.handle_save = function(fig, msg) {\n",
       "    var format_dropdown = fig.format_dropdown;\n",
       "    var format = format_dropdown.options[format_dropdown.selectedIndex].value;\n",
       "    fig.ondownload(fig, format);\n",
       "}\n",
       "\n",
       "\n",
       "mpl.figure.prototype.handle_resize = function(fig, msg) {\n",
       "    var size = msg['size'];\n",
       "    if (size[0] != fig.canvas.width || size[1] != fig.canvas.height) {\n",
       "        fig._resize_canvas(size[0], size[1]);\n",
       "        fig.send_message(\"refresh\", {});\n",
       "    };\n",
       "}\n",
       "\n",
       "mpl.figure.prototype.handle_rubberband = function(fig, msg) {\n",
       "    var x0 = msg['x0'];\n",
       "    var y0 = fig.canvas.height - msg['y0'];\n",
       "    var x1 = msg['x1'];\n",
       "    var y1 = fig.canvas.height - msg['y1'];\n",
       "    x0 = Math.floor(x0) + 0.5;\n",
       "    y0 = Math.floor(y0) + 0.5;\n",
       "    x1 = Math.floor(x1) + 0.5;\n",
       "    y1 = Math.floor(y1) + 0.5;\n",
       "    var min_x = Math.min(x0, x1);\n",
       "    var min_y = Math.min(y0, y1);\n",
       "    var width = Math.abs(x1 - x0);\n",
       "    var height = Math.abs(y1 - y0);\n",
       "\n",
       "    fig.rubberband_context.clearRect(\n",
       "        0, 0, fig.canvas.width, fig.canvas.height);\n",
       "\n",
       "    fig.rubberband_context.strokeRect(min_x, min_y, width, height);\n",
       "}\n",
       "\n",
       "mpl.figure.prototype.handle_figure_label = function(fig, msg) {\n",
       "    // Updates the figure title.\n",
       "    fig.header.textContent = msg['label'];\n",
       "}\n",
       "\n",
       "mpl.figure.prototype.handle_cursor = function(fig, msg) {\n",
       "    var cursor = msg['cursor'];\n",
       "    switch(cursor)\n",
       "    {\n",
       "    case 0:\n",
       "        cursor = 'pointer';\n",
       "        break;\n",
       "    case 1:\n",
       "        cursor = 'default';\n",
       "        break;\n",
       "    case 2:\n",
       "        cursor = 'crosshair';\n",
       "        break;\n",
       "    case 3:\n",
       "        cursor = 'move';\n",
       "        break;\n",
       "    }\n",
       "    fig.rubberband_canvas.style.cursor = cursor;\n",
       "}\n",
       "\n",
       "mpl.figure.prototype.handle_message = function(fig, msg) {\n",
       "    fig.message.textContent = msg['message'];\n",
       "}\n",
       "\n",
       "mpl.figure.prototype.handle_draw = function(fig, msg) {\n",
       "    // Request the server to send over a new figure.\n",
       "    fig.send_draw_message();\n",
       "}\n",
       "\n",
       "mpl.figure.prototype.handle_image_mode = function(fig, msg) {\n",
       "    fig.image_mode = msg['mode'];\n",
       "}\n",
       "\n",
       "mpl.figure.prototype.updated_canvas_event = function() {\n",
       "    // Called whenever the canvas gets updated.\n",
       "    this.send_message(\"ack\", {});\n",
       "}\n",
       "\n",
       "// A function to construct a web socket function for onmessage handling.\n",
       "// Called in the figure constructor.\n",
       "mpl.figure.prototype._make_on_message_function = function(fig) {\n",
       "    return function socket_on_message(evt) {\n",
       "        if (evt.data instanceof Blob) {\n",
       "            /* FIXME: We get \"Resource interpreted as Image but\n",
       "             * transferred with MIME type text/plain:\" errors on\n",
       "             * Chrome.  But how to set the MIME type?  It doesn't seem\n",
       "             * to be part of the websocket stream */\n",
       "            evt.data.type = \"image/png\";\n",
       "\n",
       "            /* Free the memory for the previous frames */\n",
       "            if (fig.imageObj.src) {\n",
       "                (window.URL || window.webkitURL).revokeObjectURL(\n",
       "                    fig.imageObj.src);\n",
       "            }\n",
       "\n",
       "            fig.imageObj.src = (window.URL || window.webkitURL).createObjectURL(\n",
       "                evt.data);\n",
       "            fig.updated_canvas_event();\n",
       "            fig.waiting = false;\n",
       "            return;\n",
       "        }\n",
       "        else if (typeof evt.data === 'string' && evt.data.slice(0, 21) == \"data:image/png;base64\") {\n",
       "            fig.imageObj.src = evt.data;\n",
       "            fig.updated_canvas_event();\n",
       "            fig.waiting = false;\n",
       "            return;\n",
       "        }\n",
       "\n",
       "        var msg = JSON.parse(evt.data);\n",
       "        var msg_type = msg['type'];\n",
       "\n",
       "        // Call the  \"handle_{type}\" callback, which takes\n",
       "        // the figure and JSON message as its only arguments.\n",
       "        try {\n",
       "            var callback = fig[\"handle_\" + msg_type];\n",
       "        } catch (e) {\n",
       "            console.log(\"No handler for the '\" + msg_type + \"' message type: \", msg);\n",
       "            return;\n",
       "        }\n",
       "\n",
       "        if (callback) {\n",
       "            try {\n",
       "                // console.log(\"Handling '\" + msg_type + \"' message: \", msg);\n",
       "                callback(fig, msg);\n",
       "            } catch (e) {\n",
       "                console.log(\"Exception inside the 'handler_\" + msg_type + \"' callback:\", e, e.stack, msg);\n",
       "            }\n",
       "        }\n",
       "    };\n",
       "}\n",
       "\n",
       "// from http://stackoverflow.com/questions/1114465/getting-mouse-location-in-canvas\n",
       "mpl.findpos = function(e) {\n",
       "    //this section is from http://www.quirksmode.org/js/events_properties.html\n",
       "    var targ;\n",
       "    if (!e)\n",
       "        e = window.event;\n",
       "    if (e.target)\n",
       "        targ = e.target;\n",
       "    else if (e.srcElement)\n",
       "        targ = e.srcElement;\n",
       "    if (targ.nodeType == 3) // defeat Safari bug\n",
       "        targ = targ.parentNode;\n",
       "\n",
       "    // jQuery normalizes the pageX and pageY\n",
       "    // pageX,Y are the mouse positions relative to the document\n",
       "    // offset() returns the position of the element relative to the document\n",
       "    var x = e.pageX - $(targ).offset().left;\n",
       "    var y = e.pageY - $(targ).offset().top;\n",
       "\n",
       "    return {\"x\": x, \"y\": y};\n",
       "};\n",
       "\n",
       "/*\n",
       " * return a copy of an object with only non-object keys\n",
       " * we need this to avoid circular references\n",
       " * http://stackoverflow.com/a/24161582/3208463\n",
       " */\n",
       "function simpleKeys (original) {\n",
       "  return Object.keys(original).reduce(function (obj, key) {\n",
       "    if (typeof original[key] !== 'object')\n",
       "        obj[key] = original[key]\n",
       "    return obj;\n",
       "  }, {});\n",
       "}\n",
       "\n",
       "mpl.figure.prototype.mouse_event = function(event, name) {\n",
       "    var canvas_pos = mpl.findpos(event)\n",
       "\n",
       "    if (name === 'button_press')\n",
       "    {\n",
       "        this.canvas.focus();\n",
       "        this.canvas_div.focus();\n",
       "    }\n",
       "\n",
       "    var x = canvas_pos.x;\n",
       "    var y = canvas_pos.y;\n",
       "\n",
       "    this.send_message(name, {x: x, y: y, button: event.button,\n",
       "                             step: event.step,\n",
       "                             guiEvent: simpleKeys(event)});\n",
       "\n",
       "    /* This prevents the web browser from automatically changing to\n",
       "     * the text insertion cursor when the button is pressed.  We want\n",
       "     * to control all of the cursor setting manually through the\n",
       "     * 'cursor' event from matplotlib */\n",
       "    event.preventDefault();\n",
       "    return false;\n",
       "}\n",
       "\n",
       "mpl.figure.prototype._key_event_extra = function(event, name) {\n",
       "    // Handle any extra behaviour associated with a key event\n",
       "}\n",
       "\n",
       "mpl.figure.prototype.key_event = function(event, name) {\n",
       "\n",
       "    // Prevent repeat events\n",
       "    if (name == 'key_press')\n",
       "    {\n",
       "        if (event.which === this._key)\n",
       "            return;\n",
       "        else\n",
       "            this._key = event.which;\n",
       "    }\n",
       "    if (name == 'key_release')\n",
       "        this._key = null;\n",
       "\n",
       "    var value = '';\n",
       "    if (event.ctrlKey && event.which != 17)\n",
       "        value += \"ctrl+\";\n",
       "    if (event.altKey && event.which != 18)\n",
       "        value += \"alt+\";\n",
       "    if (event.shiftKey && event.which != 16)\n",
       "        value += \"shift+\";\n",
       "\n",
       "    value += 'k';\n",
       "    value += event.which.toString();\n",
       "\n",
       "    this._key_event_extra(event, name);\n",
       "\n",
       "    this.send_message(name, {key: value,\n",
       "                             guiEvent: simpleKeys(event)});\n",
       "    return false;\n",
       "}\n",
       "\n",
       "mpl.figure.prototype.toolbar_button_onclick = function(name) {\n",
       "    if (name == 'download') {\n",
       "        this.handle_save(this, null);\n",
       "    } else {\n",
       "        this.send_message(\"toolbar_button\", {name: name});\n",
       "    }\n",
       "};\n",
       "\n",
       "mpl.figure.prototype.toolbar_button_onmouseover = function(tooltip) {\n",
       "    this.message.textContent = tooltip;\n",
       "};\n",
       "mpl.toolbar_items = [[\"Home\", \"Reset original view\", \"fa fa-home icon-home\", \"home\"], [\"Back\", \"Back to  previous view\", \"fa fa-arrow-left icon-arrow-left\", \"back\"], [\"Forward\", \"Forward to next view\", \"fa fa-arrow-right icon-arrow-right\", \"forward\"], [\"\", \"\", \"\", \"\"], [\"Pan\", \"Pan axes with left mouse, zoom with right\", \"fa fa-arrows icon-move\", \"pan\"], [\"Zoom\", \"Zoom to rectangle\", \"fa fa-square-o icon-check-empty\", \"zoom\"], [\"\", \"\", \"\", \"\"], [\"Download\", \"Download plot\", \"fa fa-floppy-o icon-save\", \"download\"]];\n",
       "\n",
       "mpl.extensions = [\"eps\", \"jpeg\", \"pdf\", \"png\", \"ps\", \"raw\", \"svg\", \"tif\"];\n",
       "\n",
       "mpl.default_extension = \"png\";var comm_websocket_adapter = function(comm) {\n",
       "    // Create a \"websocket\"-like object which calls the given IPython comm\n",
       "    // object with the appropriate methods. Currently this is a non binary\n",
       "    // socket, so there is still some room for performance tuning.\n",
       "    var ws = {};\n",
       "\n",
       "    ws.close = function() {\n",
       "        comm.close()\n",
       "    };\n",
       "    ws.send = function(m) {\n",
       "        //console.log('sending', m);\n",
       "        comm.send(m);\n",
       "    };\n",
       "    // Register the callback with on_msg.\n",
       "    comm.on_msg(function(msg) {\n",
       "        //console.log('receiving', msg['content']['data'], msg);\n",
       "        // Pass the mpl event to the overriden (by mpl) onmessage function.\n",
       "        ws.onmessage(msg['content']['data'])\n",
       "    });\n",
       "    return ws;\n",
       "}\n",
       "\n",
       "mpl.mpl_figure_comm = function(comm, msg) {\n",
       "    // This is the function which gets called when the mpl process\n",
       "    // starts-up an IPython Comm through the \"matplotlib\" channel.\n",
       "\n",
       "    var id = msg.content.data.id;\n",
       "    // Get hold of the div created by the display call when the Comm\n",
       "    // socket was opened in Python.\n",
       "    var element = $(\"#\" + id);\n",
       "    var ws_proxy = comm_websocket_adapter(comm)\n",
       "\n",
       "    function ondownload(figure, format) {\n",
       "        window.open(figure.imageObj.src);\n",
       "    }\n",
       "\n",
       "    var fig = new mpl.figure(id, ws_proxy,\n",
       "                           ondownload,\n",
       "                           element.get(0));\n",
       "\n",
       "    // Call onopen now - mpl needs it, as it is assuming we've passed it a real\n",
       "    // web socket which is closed, not our websocket->open comm proxy.\n",
       "    ws_proxy.onopen();\n",
       "\n",
       "    fig.parent_element = element.get(0);\n",
       "    fig.cell_info = mpl.find_output_cell(\"<div id='\" + id + \"'></div>\");\n",
       "    if (!fig.cell_info) {\n",
       "        console.error(\"Failed to find cell for figure\", id, fig);\n",
       "        return;\n",
       "    }\n",
       "\n",
       "    var output_index = fig.cell_info[2]\n",
       "    var cell = fig.cell_info[0];\n",
       "\n",
       "};\n",
       "\n",
       "mpl.figure.prototype.handle_close = function(fig, msg) {\n",
       "    fig.root.unbind('remove')\n",
       "\n",
       "    // Update the output cell to use the data from the current canvas.\n",
       "    fig.push_to_output();\n",
       "    var dataURL = fig.canvas.toDataURL();\n",
       "    // Re-enable the keyboard manager in IPython - without this line, in FF,\n",
       "    // the notebook keyboard shortcuts fail.\n",
       "    IPython.keyboard_manager.enable()\n",
       "    $(fig.parent_element).html('<img src=\"' + dataURL + '\">');\n",
       "    fig.close_ws(fig, msg);\n",
       "}\n",
       "\n",
       "mpl.figure.prototype.close_ws = function(fig, msg){\n",
       "    fig.send_message('closing', msg);\n",
       "    // fig.ws.close()\n",
       "}\n",
       "\n",
       "mpl.figure.prototype.push_to_output = function(remove_interactive) {\n",
       "    // Turn the data on the canvas into data in the output cell.\n",
       "    var dataURL = this.canvas.toDataURL();\n",
       "    this.cell_info[1]['text/html'] = '<img src=\"' + dataURL + '\">';\n",
       "}\n",
       "\n",
       "mpl.figure.prototype.updated_canvas_event = function() {\n",
       "    // Tell IPython that the notebook contents must change.\n",
       "    IPython.notebook.set_dirty(true);\n",
       "    this.send_message(\"ack\", {});\n",
       "    var fig = this;\n",
       "    // Wait a second, then push the new image to the DOM so\n",
       "    // that it is saved nicely (might be nice to debounce this).\n",
       "    setTimeout(function () { fig.push_to_output() }, 1000);\n",
       "}\n",
       "\n",
       "mpl.figure.prototype._init_toolbar = function() {\n",
       "    var fig = this;\n",
       "\n",
       "    var nav_element = $('<div/>')\n",
       "    nav_element.attr('style', 'width: 100%');\n",
       "    this.root.append(nav_element);\n",
       "\n",
       "    // Define a callback function for later on.\n",
       "    function toolbar_event(event) {\n",
       "        return fig.toolbar_button_onclick(event['data']);\n",
       "    }\n",
       "    function toolbar_mouse_event(event) {\n",
       "        return fig.toolbar_button_onmouseover(event['data']);\n",
       "    }\n",
       "\n",
       "    for(var toolbar_ind in mpl.toolbar_items){\n",
       "        var name = mpl.toolbar_items[toolbar_ind][0];\n",
       "        var tooltip = mpl.toolbar_items[toolbar_ind][1];\n",
       "        var image = mpl.toolbar_items[toolbar_ind][2];\n",
       "        var method_name = mpl.toolbar_items[toolbar_ind][3];\n",
       "\n",
       "        if (!name) { continue; };\n",
       "\n",
       "        var button = $('<button class=\"btn btn-default\" href=\"#\" title=\"' + name + '\"><i class=\"fa ' + image + ' fa-lg\"></i></button>');\n",
       "        button.click(method_name, toolbar_event);\n",
       "        button.mouseover(tooltip, toolbar_mouse_event);\n",
       "        nav_element.append(button);\n",
       "    }\n",
       "\n",
       "    // Add the status bar.\n",
       "    var status_bar = $('<span class=\"mpl-message\" style=\"text-align:right; float: right;\"/>');\n",
       "    nav_element.append(status_bar);\n",
       "    this.message = status_bar[0];\n",
       "\n",
       "    // Add the close button to the window.\n",
       "    var buttongrp = $('<div class=\"btn-group inline pull-right\"></div>');\n",
       "    var button = $('<button class=\"btn btn-mini btn-primary\" href=\"#\" title=\"Stop Interaction\"><i class=\"fa fa-power-off icon-remove icon-large\"></i></button>');\n",
       "    button.click(function (evt) { fig.handle_close(fig, {}); } );\n",
       "    button.mouseover('Stop Interaction', toolbar_mouse_event);\n",
       "    buttongrp.append(button);\n",
       "    var titlebar = this.root.find($('.ui-dialog-titlebar'));\n",
       "    titlebar.prepend(buttongrp);\n",
       "}\n",
       "\n",
       "mpl.figure.prototype._root_extra_style = function(el){\n",
       "    var fig = this\n",
       "    el.on(\"remove\", function(){\n",
       "\tfig.close_ws(fig, {});\n",
       "    });\n",
       "}\n",
       "\n",
       "mpl.figure.prototype._canvas_extra_style = function(el){\n",
       "    // this is important to make the div 'focusable\n",
       "    el.attr('tabindex', 0)\n",
       "    // reach out to IPython and tell the keyboard manager to turn it's self\n",
       "    // off when our div gets focus\n",
       "\n",
       "    // location in version 3\n",
       "    if (IPython.notebook.keyboard_manager) {\n",
       "        IPython.notebook.keyboard_manager.register_events(el);\n",
       "    }\n",
       "    else {\n",
       "        // location in version 2\n",
       "        IPython.keyboard_manager.register_events(el);\n",
       "    }\n",
       "\n",
       "}\n",
       "\n",
       "mpl.figure.prototype._key_event_extra = function(event, name) {\n",
       "    var manager = IPython.notebook.keyboard_manager;\n",
       "    if (!manager)\n",
       "        manager = IPython.keyboard_manager;\n",
       "\n",
       "    // Check for shift+enter\n",
       "    if (event.shiftKey && event.which == 13) {\n",
       "        this.canvas_div.blur();\n",
       "        event.shiftKey = false;\n",
       "        // Send a \"J\" for go to next cell\n",
       "        event.which = 74;\n",
       "        event.keyCode = 74;\n",
       "        manager.command_mode();\n",
       "        manager.handle_keydown(event);\n",
       "    }\n",
       "}\n",
       "\n",
       "mpl.figure.prototype.handle_save = function(fig, msg) {\n",
       "    fig.ondownload(fig, null);\n",
       "}\n",
       "\n",
       "\n",
       "mpl.find_output_cell = function(html_output) {\n",
       "    // Return the cell and output element which can be found *uniquely* in the notebook.\n",
       "    // Note - this is a bit hacky, but it is done because the \"notebook_saving.Notebook\"\n",
       "    // IPython event is triggered only after the cells have been serialised, which for\n",
       "    // our purposes (turning an active figure into a static one), is too late.\n",
       "    var cells = IPython.notebook.get_cells();\n",
       "    var ncells = cells.length;\n",
       "    for (var i=0; i<ncells; i++) {\n",
       "        var cell = cells[i];\n",
       "        if (cell.cell_type === 'code'){\n",
       "            for (var j=0; j<cell.output_area.outputs.length; j++) {\n",
       "                var data = cell.output_area.outputs[j];\n",
       "                if (data.data) {\n",
       "                    // IPython >= 3 moved mimebundle to data attribute of output\n",
       "                    data = data.data;\n",
       "                }\n",
       "                if (data['text/html'] == html_output) {\n",
       "                    return [cell, data, j];\n",
       "                }\n",
       "            }\n",
       "        }\n",
       "    }\n",
       "}\n",
       "\n",
       "// Register the function which deals with the matplotlib target/channel.\n",
       "// The kernel may be null if the page has been refreshed.\n",
       "if (IPython.notebook.kernel != null) {\n",
       "    IPython.notebook.kernel.comm_manager.register_target('matplotlib', mpl.mpl_figure_comm);\n",
       "}\n"
      ],
      "text/plain": [
       "<IPython.core.display.Javascript object>"
      ]
     },
     "metadata": {},
     "output_type": "display_data"
    },
    {
     "data": {
      "text/html": [
       "<img src=\"data:image/png;base64,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\">"
      ],
      "text/plain": [
       "<IPython.core.display.HTML object>"
      ]
     },
     "metadata": {},
     "output_type": "display_data"
    }
   ],
   "source": [
    "%matplotlib notebook\n",
    "\n",
    "import matplotlib as mpl\n",
    "from mpl_toolkits.mplot3d import Axes3D\n",
    "import numpy as np\n",
    "import matplotlib.pyplot as plt\n",
    "\n",
    "mpl.rcParams['legend.fontsize'] = 10\n",
    "\n",
    "fig = plt.figure()\n",
    "ax = fig.gca(projection='3d')\n",
    "theta = np.linspace(-4 * np.pi, 4 * np.pi, 100)\n",
    "z = np.linspace(-2, 2, 100)\n",
    "r = z**2 + 1\n",
    "x = r * np.sin(theta)\n",
    "y = r * np.cos(theta)\n",
    "ax.plot(x, y, z, label='parametric curve')\n",
    "ax.legend()\n",
    "\n",
    "plt.show()"
   ]
  },
  {
   "cell_type": "code",
   "execution_count": 8,
   "metadata": {},
   "outputs": [
    {
     "name": "stderr",
     "output_type": "stream",
     "text": [
      "/home/al/.pyenv/versions/anaconda3-4.4.0/envs/mercator/lib/python2.7/site-packages/matplotlib/cbook/deprecation.py:106: MatplotlibDeprecationWarning: The axisbg attribute was deprecated in version 2.0. Use facecolor instead.\n",
      "  warnings.warn(message, mplDeprecation, stacklevel=1)\n"
     ]
    },
    {
     "data": {
      "image/png": "[encoded data removed]",
      "text/plain": [
       "<matplotlib.figure.Figure at 0x7f9494523e90>"
      ]
     },
     "metadata": {},
     "output_type": "display_data"
    }
   ],
   "source": [
    "%matplotlib inline \n",
    "#!/usr/bin/env python\n",
    "\n",
    "import numpy as np\n",
    "from matplotlib.pyplot import figure, show, rc\n",
    "\n",
    "# radar green, solid grid lines\n",
    "rc('grid', color='#316931', linewidth=1, linestyle='-')\n",
    "rc('xtick', labelsize=15)\n",
    "rc('ytick', labelsize=15)\n",
    "\n",
    "# force square figure and square axes looks better for polar, IMO\n",
    "fig = figure(figsize=(8, 8))\n",
    "ax = fig.add_axes([0.1, 0.1, 0.8, 0.8], projection='polar', axisbg='#d5de9c')\n",
    "\n",
    "r = np.arange(0, 3.0, 0.01)\n",
    "theta = 2*np.pi*r\n",
    "ax.plot(theta, r, color='#ee8d18', lw=3, label='a line')\n",
    "ax.plot(0.5*theta, r, color='blue', ls='--', lw=3, label='another line')\n",
    "ax.legend()\n",
    "\n",
    "show()"
   ]
  },
  {
   "cell_type": "markdown",
   "metadata": {},
   "source": [
    "## Ecrire des commandes dans d'autres langages"
   ]
  },
  {
   "cell_type": "code",
   "execution_count": 9,
   "metadata": {},
   "outputs": [
    {
     "name": "stderr",
     "output_type": "stream",
     "text": [
      "pyenv: perl: command not found\n",
      "\n",
      "The `perl' command exists in these Python versions:\n",
      "  anaconda3-4.4.0/envs/py35\n",
      "\n"
     ]
    }
   ],
   "source": [
    "%%perl\n",
    "my %a = ( cle1 => [1, 2], cle2 => [3, 4] );\n",
    "my $b = 10;\n",
    "print \"cle1:\", %a{'cle1'}, \"\\n\";\n",
    "print \"b=$b\\n\";"
   ]
  },
  {
   "cell_type": "code",
   "execution_count": 10,
   "metadata": {},
   "outputs": [
    {
     "name": "stdout",
     "output_type": "stream",
     "text": [
      "a=10\n",
      "a=$a\n"
     ]
    }
   ],
   "source": [
    "%%bash\n",
    "a=10\n",
    "echo \"a=$a\"\n",
    "echo 'a=$a'"
   ]
  },
  {
   "cell_type": "code",
   "execution_count": 13,
   "metadata": {},
   "outputs": [
    {
     "name": "stdout",
     "output_type": "stream",
     "text": [
      "Hello from Ruby\n"
     ]
    }
   ],
   "source": [
    "%%ruby\n",
    "\n",
    "a = \"Ruby\"\n",
    "\n",
    "puts \"Hello from #{a}\""
   ]
  },
  {
   "cell_type": "code",
   "execution_count": 14,
   "metadata": {
    "scrolled": true
   },
   "outputs": [
    {
     "name": "stderr",
     "output_type": "stream",
     "text": [
      "-:2:in `<main>': undefined local variable or method `a' for main:Object (NameError)\n"
     ]
    }
   ],
   "source": [
    "%%ruby\n",
    "\n",
    "puts a"
   ]
  },
  {
   "cell_type": "code",
   "execution_count": 15,
   "metadata": {},
   "outputs": [],
   "source": [
    "a = 1"
   ]
  },
  {
   "cell_type": "code",
   "execution_count": 16,
   "metadata": {},
   "outputs": [
    {
     "data": {
      "text/plain": [
       "2"
      ]
     },
     "execution_count": 16,
     "metadata": {},
     "output_type": "execute_result"
    }
   ],
   "source": [
    "a * 2"
   ]
  },
  {
   "cell_type": "markdown",
   "metadata": {},
   "source": [
    "## Et ce n'est pas tout\n",
    "Vous pouvez faire bien plus encore comme:\n",
    "* Intégrer des vidéos\n",
    "* Rendre paramétable vos fonctions avec des [widgets](https://github.com/ipython/ipywidgets/blob/master/docs/source/examples/Index.ipynb)...\n",
    "* [L'exporter vers de nombreux formats](http://nbviewer.jupyter.org/github/ipython/ipython/blob/3.x/examples/Notebook/Converting%20Notebooks%20With%20nbconvert.ipynb) (HTML, PDF, RTF, ...)\n",
    "* Créer des présentations...\n",
    "* [Et bien d'autres](http://nbviewer.jupyter.org/github/ipython/ipython/blob/3.x/examples/Notebook/Index.ipynb)"
   ]
  },
  {
   "cell_type": "code",
   "execution_count": 1,
   "metadata": {},
   "outputs": [
    {
     "data": {
      "image/jpeg": "[encoded data removed]",
      "text/html": [
       "\n",
       "        <iframe\n",
       "            width=\"400\"\n",
       "            height=\"300\"\n",
       "            src=\"https://www.youtube.com/embed/j9YpkSX7NNM\"\n",
       "            frameborder=\"0\"\n",
       "            allowfullscreen\n",
       "        ></iframe>\n",
       "        "
      ],
      "text/plain": [
       "<IPython.lib.display.YouTubeVideo at 0x7f0e34da7710>"
      ]
     },
     "execution_count": 1,
     "metadata": {},
     "output_type": "execute_result"
    }
   ],
   "source": [
    "from IPython.display import YouTubeVideo\n",
    "YouTubeVideo('j9YpkSX7NNM')"
   ]
  },
  {
   "cell_type": "code",
   "execution_count": null,
   "metadata": {},
   "outputs": [],
   "source": [
    "from ipywidgets import interact\n",
    "# IPython.html.widgets before\n",
    "# IPython 4.0\n",
    "@interact(x=(0, 100))\n",
    "def square(x):\n",
    " print(\"The square of %d is %d.\" % (x, x**2))"
   ]
  },
  {
   "cell_type": "markdown",
   "metadata": {},
   "source": [
    "# Des exemples de notebooks\n",
    "Il existe de très nombreux exemples de notebooks disponibles en lignes:  \n",
    "* Le site [NbViewer](http://nbviewer.jupyter.org/) permet de partager des notebook en ligne et propose de nombreux exemples regroupés par thèmes.  \n",
    "  A lire absolument !\n",
    "* Les [Scipy lecture notes](http://www.scipy-lectures.org) présentent plusieurs scénarios avec les notebook Jupyter\n",
    "* Enfin, vous trouverez [beaucoup d'autres exemples](https://github.com/ipython/ipython/wiki/A-gallery-of-interesting-IPython-Notebooks) sur ce projet GitHub"
   ]
  },
  {
   "cell_type": "markdown",
   "metadata": {},
   "source": [
    "## Un très bon tutoriel en anglais\n",
    "[Jupyter notebook tutorial, DataCamp](https://www.datacamp.com/community/tutorials/tutorial-jupyter-notebook)"
   ]
  },
  {
   "cell_type": "markdown",
   "metadata": {},
   "source": [
    "## Navigateurs supportés\n",
    "Les dernières versions stables des navigateurs suivants sont supportées:\n",
    "\n",
    "* Chrome\n",
    "* Safari\n",
    "* Firefox\n",
    "\n",
    "Les navigateurs ci-dessous ne sont pas supportés\n",
    "\n",
    "* Safari < 5\n",
    "* Firefox < 6\n",
    "* Chrome < 13\n",
    "* Opera (pour les css, mais le code peut fonctionner)\n",
    "* Internet Explorer"
   ]
  },
  {
   "cell_type": "markdown",
   "metadata": {
    "collapsed": true
   },
   "source": [
    "Le site PacktPublishing propose chaque jour un nouveau livre à télécharger:\n",
    "    https://www.packtpub.com/packt/offers/free-learning"
   ]
  }
 ],
 "metadata": {
  "anaconda-cloud": {},
  "kernelspec": {
   "display_name": "Python 2",
   "language": "python",
   "name": "python2"
  },
  "language_info": {
   "codemirror_mode": {
    "name": "ipython",
    "version": 2
   },
   "file_extension": ".py",
   "mimetype": "text/x-python",
   "name": "python",
   "nbconvert_exporter": "python",
   "pygments_lexer": "ipython2",
   "version": "2.7.14"
  }
 },
 "nbformat": 4,
 "nbformat_minor": 1
}
