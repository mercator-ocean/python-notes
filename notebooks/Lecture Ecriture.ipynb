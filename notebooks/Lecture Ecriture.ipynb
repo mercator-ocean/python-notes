{
 "cells": [
  {
   "cell_type": "markdown",
   "metadata": {},
   "source": [
    "# Lecture et écriture de fichiers NetCDF"
   ]
  },
  {
   "cell_type": "markdown",
   "metadata": {},
   "source": [
    "## Imports nécessaires"
   ]
  },
  {
   "cell_type": "code",
   "execution_count": 17,
   "metadata": {},
   "outputs": [],
   "source": [
    "from netCDF4 import Dataset\n",
    "from netCDF4 import num2date\n",
    "from netCDF4 import date2num\n",
    "import datetime\n",
    "import numpy as np\n",
    "import os"
   ]
  },
  {
   "cell_type": "markdown",
   "metadata": {},
   "source": [
    "## Ouvrir le fichier contenant les données"
   ]
  },
  {
   "cell_type": "code",
   "execution_count": 18,
   "metadata": {},
   "outputs": [],
   "source": [
    "file_name = 'data1.nc'\n",
    "nc = Dataset(file_name, 'r')"
   ]
  },
  {
   "cell_type": "markdown",
   "metadata": {},
   "source": [
    "## Accès à la variable thetao"
   ]
  },
  {
   "cell_type": "code",
   "execution_count": 19,
   "metadata": {},
   "outputs": [],
   "source": [
    "thetao = nc.variables['thetao']"
   ]
  },
  {
   "cell_type": "markdown",
   "metadata": {},
   "source": [
    "## Connaitre le nombre de pas de temps"
   ]
  },
  {
   "cell_type": "code",
   "execution_count": 20,
   "metadata": {},
   "outputs": [],
   "source": [
    "dim_size = nc.dimensions['time'].size"
   ]
  },
  {
   "cell_type": "markdown",
   "metadata": {
    "collapsed": true
   },
   "source": [
    "## Ouverture en écriture d'un nouveau fichier NetCDF"
   ]
  },
  {
   "cell_type": "code",
   "execution_count": 21,
   "metadata": {},
   "outputs": [],
   "source": [
    "new_file_path = 'custom_netcdf.nc'\n",
    "try:\n",
    "    os.remove(new_file_path)\n",
    "except :\n",
    "    pass\n",
    "new_netcdf_file = Dataset(new_file_path, \"w\")\n"
   ]
  },
  {
   "cell_type": "markdown",
   "metadata": {},
   "source": [
    "## Créer une nouvelle dimension et une nouvelle variable pour stocker le temps"
   ]
  },
  {
   "cell_type": "code",
   "execution_count": 22,
   "metadata": {},
   "outputs": [],
   "source": [
    "new_netcdf_file.createDimension(\"time\", dim_size)\n",
    "time = new_netcdf_file.createVariable(\"time\", \"f4\", (\"time\",))"
   ]
  },
  {
   "cell_type": "markdown",
   "metadata": {},
   "source": [
    "## Créer une variable associée à cette dimension"
   ]
  },
  {
   "cell_type": "code",
   "execution_count": 23,
   "metadata": {},
   "outputs": [],
   "source": [
    "mean_temp = new_netcdf_file.createVariable(\"mean_temp\", \"f4\", (\"time\",))"
   ]
  },
  {
   "cell_type": "markdown",
   "metadata": {},
   "source": [
    "## Calculer toutes les températures moyennes et les stocker dans un tableau numpy"
   ]
  },
  {
   "cell_type": "code",
   "execution_count": 24,
   "metadata": {},
   "outputs": [
    {
     "name": "stdout",
     "output_type": "stream",
     "text": [
      "18.5357846414\n",
      "18.5120161096\n",
      "18.488121642\n",
      "18.4639173255\n",
      "18.4396946618\n",
      "18.416957247\n",
      "18.3961044646\n",
      "18.3774056526\n",
      "18.3614875541\n",
      "18.360365141\n",
      "18.3647188767\n",
      "18.3665938217\n",
      "18.4006967149\n",
      "18.4540390042\n",
      "18.5023074639\n",
      "18.5476717696\n",
      "18.5885289563\n",
      "18.6219911625\n",
      "18.6069789792\n",
      "18.5688878281\n",
      "18.5467006848\n",
      "18.5194216581\n",
      "18.4928399748\n",
      "18.4739469752\n"
     ]
    }
   ],
   "source": [
    "average_temp = []\n",
    "for i, v in enumerate(nc['time']):\n",
    "    # Récupérer les températures pour cette heure,\n",
    "    # à la surface de l'océan (niveau d'index 0)\n",
    "    # au niveau des côtés française (intervals de latitudes et de longitudes)\n",
    "    data = np.asarray(thetao[i, 0, 50:150, 150:240], type(thetao))\n",
    "    # Récupérer le masque représentant les données en mer\n",
    "    idx = data != thetao._FillValue\n",
    "    # Convertir les données en degrés celsius\n",
    "    data = data[idx] * thetao.scale_factor + thetao.add_offset\n",
    "    print np.mean(data)\n",
    "    average_temp.append(np.mean(data))\n"
   ]
  },
  {
   "cell_type": "markdown",
   "metadata": {},
   "source": [
    "## Stocker les moyennes calculées dans la variable NetCDF"
   ]
  },
  {
   "cell_type": "code",
   "execution_count": 25,
   "metadata": {},
   "outputs": [],
   "source": [
    "mean_temp[:] = average_temp"
   ]
  },
  {
   "cell_type": "markdown",
   "metadata": {},
   "source": [
    "## Réchantillonage\n",
    "\n",
    "* faire un rééchantillonnage tous les 3 points (\"striding\" - dégradation de résolution du 1/36° au 1/12°)\n",
    "* calculer les moyennes à partir du rééchantillonage et comparer avec les moyennes calculées précédemment"
   ]
  },
  {
   "cell_type": "code",
   "execution_count": 28,
   "metadata": {},
   "outputs": [
    {
     "name": "stdout",
     "output_type": "stream",
     "text": [
      "[0.0062724511452607601, 0.0061275740218356134, 0.0059165220012147302, 0.0056390982555818425, 0.005198166901884349, 0.0051782515787053285, 0.0052815642719252764, 0.0050016880852545853, 0.0043993702484712571, 0.0038728610591824975, 0.003346721581493739, 0.0030136862609815296, 0.0034232581581576937, 0.0045709529416697592, 0.0053036371685344363, 0.005352225425276913, 0.005124814532198485, 0.0054987622783606582, 0.0049507202077236911, 0.0045086131561191678, 0.0045302938357600908, 0.0040819469533879271, 0.0038881905166796571, 0.0036929506935230449]\n",
      "0.00475726338663\n"
     ]
    }
   ],
   "source": [
    "error = []\n",
    "for i, v in enumerate(nc['time']):\n",
    "    # Récupérer les températures pour cette heure,\n",
    "    # à la surface de l'océan\n",
    "    # au niveau des côtés française avec un stride de 3\n",
    "    data = np.asarray(thetao[i, 0, 50:150:3, 150:240:3], type(thetao))\n",
    "    # Récupérer le masque mer\n",
    "    sea_mask = data != thetao._FillValue\n",
    "    # Convertir les données en degré celsuis\n",
    "    data = data[sea_mask] * thetao.scale_factor + thetao.add_offset\n",
    "    # Calculer la moyenne\n",
    "    mean = np.mean(data)\n",
    "    # Calculer la différence par rapport à la moyenne sans rééchantillonage\n",
    "    error.append(np.abs(mean - mean_temp[i]))\n",
    "print error\n",
    "print(np.mean(error))\n",
    "    "
   ]
  },
  {
   "cell_type": "markdown",
   "metadata": {},
   "source": [
    "## Récupérer le masque terre / mer"
   ]
  },
  {
   "cell_type": "code",
   "execution_count": 29,
   "metadata": {},
   "outputs": [],
   "source": [
    "fill_value = thetao._FillValue\n",
    "masque = np.asarray(thetao[:]) == fill_value"
   ]
  },
  {
   "cell_type": "markdown",
   "metadata": {},
   "source": [
    "## Afficher le nombre de valeurs pour la terre"
   ]
  },
  {
   "cell_type": "code",
   "execution_count": 30,
   "metadata": {},
   "outputs": [
    {
     "data": {
      "text/plain": [
       "22425744"
      ]
     },
     "execution_count": 30,
     "metadata": {},
     "output_type": "execute_result"
    }
   ],
   "source": [
    "np.sum(masque)"
   ]
  },
  {
   "cell_type": "markdown",
   "metadata": {},
   "source": [
    "## Créer un masque terre/mer\n",
    "\n",
    "Créer un masque terre/mer dans lequel les valeurs sur terre sont à 1 et les valeurs en mer sont à 0"
   ]
  },
  {
   "cell_type": "code",
   "execution_count": 40,
   "metadata": {},
   "outputs": [
    {
     "name": "stdout",
     "output_type": "stream",
     "text": [
      "<type 'netCDF4._netCDF4.Dataset'>\n",
      "root group (NETCDF3_CLASSIC data model, file format NETCDF3):\n",
      "    CDI: Climate Data Interface version 1.7.0 (http://mpimet.mpg.de/cdi)\n",
      "    Conventions: CF-1.0\n",
      "    source: IBI-MFC (PdE Production Center)\n",
      "    institution: Puertos del Estado (PdE)\n",
      "    nco_openmp_thread_number: 1\n",
      "    title: Ocean 3D IBI hourly mean fields\n",
      "    easting: longitude\n",
      "    northing: latitude\n",
      "    references: http://marine.copernicus.eu/\n",
      "    domain_name: IBI36\n",
      "    field_type: mean\n",
      "    field_date: 20171004\n",
      "    field_julian_date: 24748.f\n",
      "    comment: Class1 metrics\n",
      "    julian_day_unit: Hours since 1950-01-01 00:00:00\n",
      "    forecast_range: 01-day_hindcast\n",
      "    forecast_type: hindcast\n",
      "    bulletin_date: 2017-10-05\n",
      "    bulletin_type: Operational\n",
      "    longitude_min: -7.5555553f\n",
      "    longitude_max: -0.77756983f\n",
      "    latitude_min: 43.305557f\n",
      "    latitude_max: 48.27793f\n",
      "    z_min: 0.49402538f\n",
      "    z_max: 4833.2905f\n",
      "    contact: mailto: servicedesk.cmems@mercator-ocean.eu\n",
      "    netcdf_version_id: 4.4.3\n",
      "    CDO: Climate Data Operators version 1.7.0 (http://mpimet.mpg.de/cdo)\n",
      "    NCO: 4.4.4\n",
      "    dimensions(sizes): deptht(48), latitude(180), longitude(245), time(24)\n",
      "    variables(dimensions): float32 \u001b[4mdeptht\u001b[0m(deptht), float32 \u001b[4mlatitude\u001b[0m(latitude), float32 \u001b[4mlongitude\u001b[0m(longitude), int16 \u001b[4mso\u001b[0m(time,deptht,latitude,longitude), int16 \u001b[4mthetao\u001b[0m(time,deptht,latitude,longitude), float32 \u001b[4mtime\u001b[0m(time), int16 \u001b[4muo\u001b[0m(time,deptht,latitude,longitude), int16 \u001b[4mvo\u001b[0m(time,deptht,latitude,longitude)\n",
      "    groups: \n",
      "\n"
     ]
    }
   ],
   "source": [
    "masque2 = np.ndarray(np.asarray(thetao[:]).shape)\n",
    "masque2[masque] = 1\n",
    "masque2.shape\n",
    "new_netcdf_file\n",
    "print nc"
   ]
  },
  {
   "cell_type": "markdown",
   "metadata": {},
   "source": [
    "## Ajout des dimensions au nouveau fichier\n",
    "\n",
    "### Ajout de la profondeur"
   ]
  },
  {
   "cell_type": "code",
   "execution_count": 41,
   "metadata": {},
   "outputs": [
    {
     "ename": "RuntimeError",
     "evalue": "NetCDF: String match to name in use",
     "output_type": "error",
     "traceback": [
      "\u001b[0;31m---------------------------------------------------------------------------\u001b[0m",
      "\u001b[0;31mRuntimeError\u001b[0m                              Traceback (most recent call last)",
      "\u001b[0;32m<ipython-input-41-914ddbba1844>\u001b[0m in \u001b[0;36m<module>\u001b[0;34m()\u001b[0m\n\u001b[0;32m----> 1\u001b[0;31m \u001b[0mnew_netcdf_file\u001b[0m\u001b[0;34m.\u001b[0m\u001b[0mcreateDimension\u001b[0m\u001b[0;34m(\u001b[0m\u001b[0;34m'depth'\u001b[0m\u001b[0;34m,\u001b[0m \u001b[0mnc\u001b[0m\u001b[0;34m[\u001b[0m\u001b[0;34m'deptht'\u001b[0m\u001b[0;34m]\u001b[0m\u001b[0;34m.\u001b[0m\u001b[0msize\u001b[0m\u001b[0;34m)\u001b[0m\u001b[0;34m\u001b[0m\u001b[0m\n\u001b[0m\u001b[1;32m      2\u001b[0m \u001b[0mdepth\u001b[0m \u001b[0;34m=\u001b[0m \u001b[0mnew_netcdf_file\u001b[0m\u001b[0;34m.\u001b[0m\u001b[0mcreateVariable\u001b[0m\u001b[0;34m(\u001b[0m\u001b[0;34m'depth'\u001b[0m\u001b[0;34m,\u001b[0m \u001b[0;34m'f4'\u001b[0m\u001b[0;34m,\u001b[0m \u001b[0;34m(\u001b[0m\u001b[0;34m'depth'\u001b[0m\u001b[0;34m,\u001b[0m\u001b[0;34m)\u001b[0m\u001b[0;34m)\u001b[0m\u001b[0;34m\u001b[0m\u001b[0m\n\u001b[1;32m      3\u001b[0m \u001b[0mdepth\u001b[0m \u001b[0;34m=\u001b[0m \u001b[0mnc\u001b[0m\u001b[0;34m[\u001b[0m\u001b[0;34m'deptht'\u001b[0m\u001b[0;34m]\u001b[0m\u001b[0;34m\u001b[0m\u001b[0m\n",
      "\u001b[0;32mnetCDF4/_netCDF4.pyx\u001b[0m in \u001b[0;36mnetCDF4._netCDF4.Dataset.createDimension\u001b[0;34m()\u001b[0m\n",
      "\u001b[0;32mnetCDF4/_netCDF4.pyx\u001b[0m in \u001b[0;36mnetCDF4._netCDF4.Dimension.__init__\u001b[0;34m()\u001b[0m\n",
      "\u001b[0;32mnetCDF4/_netCDF4.pyx\u001b[0m in \u001b[0;36mnetCDF4._netCDF4._ensure_nc_success\u001b[0;34m()\u001b[0m\n",
      "\u001b[0;31mRuntimeError\u001b[0m: NetCDF: String match to name in use"
     ]
    }
   ],
   "source": [
    "new_netcdf_file.createDimension('depth', nc['deptht'].size)\n",
    "depth = new_netcdf_file.createVariable('depth', 'f4', ('depth',))\n",
    "depth = nc['deptht']\n"
   ]
  },
  {
   "cell_type": "markdown",
   "metadata": {},
   "source": [
    "### Ajout de la longitude"
   ]
  },
  {
   "cell_type": "code",
   "execution_count": 38,
   "metadata": {},
   "outputs": [],
   "source": [
    "new_netcdf_file.createDimension('longitude', nc['longitude'].size)\n",
    "longitude = new_netcdf_file.createVariable('longitude', 'f4', ('longitude',))\n",
    "longitude = nc['longitude']"
   ]
  },
  {
   "cell_type": "markdown",
   "metadata": {},
   "source": [
    "### Ajout de la latitude"
   ]
  },
  {
   "cell_type": "code",
   "execution_count": 35,
   "metadata": {},
   "outputs": [],
   "source": [
    "new_netcdf_file.createDimension('latitude', nc['latitude'].size)\n",
    "latitude = new_netcdf_file.createVariable('latitude', 'f4', ('latitude',))\n",
    "latitude = nc['latitude']"
   ]
  },
  {
   "cell_type": "markdown",
   "metadata": {},
   "source": [
    "### Créer une nouvelle variable NetCDF pour le masque"
   ]
  },
  {
   "cell_type": "code",
   "execution_count": 39,
   "metadata": {},
   "outputs": [],
   "source": [
    "masque_variable = new_netcdf_file.createVariable('masque','b',('time', 'depth', 'latitude', 'longitude'))"
   ]
  },
  {
   "cell_type": "markdown",
   "metadata": {},
   "source": [
    "## Ajouter les données du masque"
   ]
  },
  {
   "cell_type": "code",
   "execution_count": 42,
   "metadata": {},
   "outputs": [],
   "source": [
    "masque_variable[:] = masque2"
   ]
  },
  {
   "cell_type": "code",
   "execution_count": 43,
   "metadata": {},
   "outputs": [
    {
     "data": {
      "text/plain": [
       "<type 'netCDF4._netCDF4.Dataset'>\n",
       "root group (NETCDF4 data model, file format HDF5):\n",
       "    dimensions(sizes): time(24), depth(48), latitude(180), longitude(245)\n",
       "    variables(dimensions): float32 \u001b[4mtime\u001b[0m(time), float32 \u001b[4mmean_temp\u001b[0m(time), float32 \u001b[4mdepth\u001b[0m(depth), float32 \u001b[4mlatitude\u001b[0m(latitude), float32 \u001b[4mlongitude\u001b[0m(longitude), int8 \u001b[4mmasque\u001b[0m(time,depth,latitude,longitude)\n",
       "    groups: "
      ]
     },
     "execution_count": 43,
     "metadata": {},
     "output_type": "execute_result"
    }
   ],
   "source": [
    "new_netcdf_file"
   ]
  },
  {
   "cell_type": "code",
   "execution_count": 44,
   "metadata": {},
   "outputs": [
    {
     "data": {
      "text/plain": [
       "<type 'netCDF4._netCDF4.Variable'>\n",
       "int8 masque(time, depth, latitude, longitude)\n",
       "unlimited dimensions: \n",
       "current shape = (24, 48, 180, 245)\n",
       "filling on, default _FillValue of -127 ignored"
      ]
     },
     "execution_count": 44,
     "metadata": {},
     "output_type": "execute_result"
    }
   ],
   "source": [
    "new_netcdf_file['masque']"
   ]
  },
  {
   "cell_type": "markdown",
   "metadata": {},
   "source": [
    "## Refermer le fichier"
   ]
  },
  {
   "cell_type": "code",
   "execution_count": 45,
   "metadata": {},
   "outputs": [],
   "source": [
    "new_netcdf_file.close()"
   ]
  },
  {
   "cell_type": "markdown",
   "metadata": {},
   "source": [
    "## Convertir les dates en objets datetime "
   ]
  },
  {
   "cell_type": "code",
   "execution_count": 46,
   "metadata": {},
   "outputs": [
    {
     "name": "stdout",
     "output_type": "stream",
     "text": [
      "0\n",
      "1\n",
      "2\n",
      "3\n",
      "4\n",
      "5\n",
      "6\n",
      "7\n",
      "8\n",
      "9\n",
      "10\n",
      "11\n",
      "12\n",
      "13\n",
      "14\n",
      "15\n",
      "16\n",
      "17\n",
      "18\n",
      "19\n",
      "20\n",
      "21\n",
      "22\n",
      "23\n"
     ]
    }
   ],
   "source": [
    "for i, v in enumerate(nc['time']):\n",
    "    datetime_object = num2date(v, nc['time'].units)\n",
    "    print datetime_object.hour"
   ]
  },
  {
   "cell_type": "markdown",
   "metadata": {},
   "source": [
    "## Afficher l'évolution de la température en fonction de la profondeur\n",
    "\n",
    "### Calcul des températures moyennes par profondeur"
   ]
  },
  {
   "cell_type": "code",
   "execution_count": 54,
   "metadata": {},
   "outputs": [],
   "source": [
    "# Initialisation d'un tableau temps / profondeur\n",
    "average_temperature = np.ndarray([nc['time'].size, nc['deptht'].size])\n",
    "for i_time, v_time in enumerate(nc['time']):\n",
    "    for i_depth, v_depth in enumerate(nc['deptht']):\n",
    "        # Récupérer les températures pour une heure et une profondeur données\n",
    "        data = np.asarray(thetao[i_time, i_depth, :, :], type(thetao))\n",
    "        # Récupérer le masque\n",
    "        idx = data != thetao._FillValue\n",
    "        # Convertir les données en degré celsius\n",
    "        data = data[idx] * thetao.scale_factor + thetao.add_offset\n",
    "        # Assignation de la moyenne pour une heure et une profondeur données\n",
    "        average_temperature[i_time][i_depth] = np.mean(data)"
   ]
  },
  {
   "cell_type": "markdown",
   "metadata": {},
   "source": [
    "## Tracé de la température en fonction de la profondeur pour la première échéance horaire"
   ]
  },
  {
   "cell_type": "code",
   "execution_count": 55,
   "metadata": {},
   "outputs": [
    {
     "data": {
      "image/png": "[encoded data removed]",
      "text/plain": [
       "<matplotlib.figure.Figure at 0x7f998d92f610>"
      ]
     },
     "metadata": {},
     "output_type": "display_data"
    }
   ],
   "source": [
    "import matplotlib.pyplot as plt\n",
    "x = range(nc['deptht'].size)\n",
    "y = average_temperature[0, :]\n",
    "plt.fill_between(x, y, color=\"skyblue\", alpha=0.4)\n",
    "plt.plot(x, y, color=\"Slateblue\", alpha=0.6)\n",
    "plt.show()"
   ]
  },
  {
   "cell_type": "code",
   "execution_count": null,
   "metadata": {},
   "outputs": [],
   "source": []
  }
 ],
 "metadata": {
  "kernelspec": {
   "display_name": "Python 2",
   "language": "python",
   "name": "python2"
  },
  "language_info": {
   "codemirror_mode": {
    "name": "ipython",
    "version": 2
   },
   "file_extension": ".py",
   "mimetype": "text/x-python",
   "name": "python",
   "nbconvert_exporter": "python",
   "pygments_lexer": "ipython2",
   "version": "2.7.14"
  }
 },
 "nbformat": 4,
 "nbformat_minor": 2
}
