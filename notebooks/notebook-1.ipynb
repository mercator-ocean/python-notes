{
 "cells": [
  {
   "cell_type": "markdown",
   "metadata": {},
   "source": [
    "# Ceci est mon test"
   ]
  },
  {
   "cell_type": "code",
   "execution_count": 1,
   "metadata": {},
   "outputs": [
    {
     "name": "stdout",
     "output_type": "stream",
     "text": [
      "toto\n"
     ]
    }
   ],
   "source": [
    "from netCDF4 import Dataset\n",
    "\n",
    "print 'toto'"
   ]
  },
  {
   "cell_type": "markdown",
   "metadata": {},
   "source": [
    "J'ai printé \"toto\"...\n",
    "***\n",
    "Et maintenant je liste les variables dans un des fichiers d'obs"
   ]
  },
  {
   "cell_type": "code",
   "execution_count": 2,
   "metadata": {},
   "outputs": [
    {
     "name": "stdout",
     "output_type": "stream",
     "text": [
      "variable 0 TIME (u'TIME',)\n",
      "variable 1 TIME_QC (u'TIME',)\n",
      "variable 2 LATITUDE (u'LATITUDE',)\n",
      "variable 3 LONGITUDE (u'LONGITUDE',)\n",
      "variable 4 POSITION_QC (u'POSITION',)\n",
      "variable 5 POSITIONING_SYSTEM (u'POSITION',)\n",
      "variable 6 DC_REFERENCE (u'TIME', u'STRING32')\n",
      "variable 7 DEPH (u'TIME', u'DEPTH')\n",
      "variable 8 DEPH_QC (u'TIME', u'DEPTH')\n",
      "variable 9 DEPH_DM (u'TIME', u'DEPTH')\n",
      "variable 10 SSJT (u'TIME', u'DEPTH')\n",
      "variable 11 SSJT_QC (u'TIME', u'DEPTH')\n",
      "variable 12 SSJT_DM (u'TIME', u'DEPTH')\n",
      "variable 13 PSAL (u'TIME', u'DEPTH')\n",
      "variable 14 PSAL_QC (u'TIME', u'DEPTH')\n",
      "variable 15 PSAL_DM (u'TIME', u'DEPTH')\n"
     ]
    }
   ],
   "source": [
    "nc=Dataset('/home/rdussurget/FormationPython/data/GL_LATEST_TS_TS_FNHO_20170929.nc')\n",
    "for i,V in enumerate(nc.variables):\n",
    "    print \"variable %d\"%i, V, nc.variables[V].dimensions"
   ]
  }
 ],
 "metadata": {
  "kernelspec": {
   "display_name": "Python 2",
   "language": "python",
   "name": "python2"
  },
  "language_info": {
   "codemirror_mode": {
    "name": "ipython",
    "version": 2
   },
   "file_extension": ".py",
   "mimetype": "text/x-python",
   "name": "python",
   "nbconvert_exporter": "python",
   "pygments_lexer": "ipython2",
   "version": "2.7.5"
  }
 },
 "nbformat": 4,
 "nbformat_minor": 2
}
